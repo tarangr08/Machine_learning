{
 "cells": [
  {
   "cell_type": "markdown",
   "id": "508ec557",
   "metadata": {},
   "source": [
    "# Handwritten digits classification using neural network\n",
    "In this notebook we will classify handwritten digits using a simple neural network which has only input and output layers. We will than add a hidden layer and see how the performance of the model improves"
   ]
  },
  {
   "cell_type": "code",
   "execution_count": 4,
   "id": "f14aad06",
   "metadata": {},
   "outputs": [],
   "source": [
    "import tensorflow as tf\n",
    "from tensorflow import keras\n",
    "import matplotlib.pyplot as plt\n",
    "%matplotlib inline\n",
    "import numpy as np"
   ]
  },
  {
   "cell_type": "code",
   "execution_count": 2,
   "id": "5212fa3f",
   "metadata": {},
   "outputs": [
    {
     "name": "stdout",
     "output_type": "stream",
     "text": [
      "Collecting tensorflow\n",
      "  Obtaining dependency information for tensorflow from https://files.pythonhosted.org/packages/93/21/9b035a4f823d6aee2917c75415be9a95861ff3d73a0a65e48edbf210cec1/tensorflow-2.15.0-cp311-cp311-win_amd64.whl.metadata\n",
      "  Downloading tensorflow-2.15.0-cp311-cp311-win_amd64.whl.metadata (3.6 kB)\n",
      "Collecting tensorflow-intel==2.15.0 (from tensorflow)\n",
      "  Obtaining dependency information for tensorflow-intel==2.15.0 from https://files.pythonhosted.org/packages/4c/48/1a5a15517f18eaa4ff8d598b1c000300b20c1bb0e624539d702117a0c369/tensorflow_intel-2.15.0-cp311-cp311-win_amd64.whl.metadata\n",
      "  Downloading tensorflow_intel-2.15.0-cp311-cp311-win_amd64.whl.metadata (5.1 kB)\n",
      "Collecting absl-py>=1.0.0 (from tensorflow-intel==2.15.0->tensorflow)\n",
      "  Obtaining dependency information for absl-py>=1.0.0 from https://files.pythonhosted.org/packages/a2/ad/e0d3c824784ff121c03cc031f944bc7e139a8f1870ffd2845cc2dd76f6c4/absl_py-2.1.0-py3-none-any.whl.metadata\n",
      "  Downloading absl_py-2.1.0-py3-none-any.whl.metadata (2.3 kB)\n",
      "Collecting astunparse>=1.6.0 (from tensorflow-intel==2.15.0->tensorflow)\n",
      "  Downloading astunparse-1.6.3-py2.py3-none-any.whl (12 kB)\n",
      "Collecting flatbuffers>=23.5.26 (from tensorflow-intel==2.15.0->tensorflow)\n",
      "  Obtaining dependency information for flatbuffers>=23.5.26 from https://files.pythonhosted.org/packages/6f/12/d5c79ee252793ffe845d58a913197bfa02ae9a0b5c9bc3dc4b58d477b9e7/flatbuffers-23.5.26-py2.py3-none-any.whl.metadata\n",
      "  Downloading flatbuffers-23.5.26-py2.py3-none-any.whl.metadata (850 bytes)\n",
      "Collecting gast!=0.5.0,!=0.5.1,!=0.5.2,>=0.2.1 (from tensorflow-intel==2.15.0->tensorflow)\n",
      "  Obtaining dependency information for gast!=0.5.0,!=0.5.1,!=0.5.2,>=0.2.1 from https://files.pythonhosted.org/packages/fa/39/5aae571e5a5f4de9c3445dae08a530498e5c53b0e74410eeeb0991c79047/gast-0.5.4-py3-none-any.whl.metadata\n",
      "  Downloading gast-0.5.4-py3-none-any.whl.metadata (1.3 kB)\n",
      "Collecting google-pasta>=0.1.1 (from tensorflow-intel==2.15.0->tensorflow)\n",
      "  Downloading google_pasta-0.2.0-py3-none-any.whl (57 kB)\n",
      "     ---------------------------------------- 0.0/57.5 kB ? eta -:--:--\n",
      "     ---------------------------------------- 57.5/57.5 kB 3.0 MB/s eta 0:00:00\n",
      "Collecting h5py>=2.9.0 (from tensorflow-intel==2.15.0->tensorflow)\n",
      "  Obtaining dependency information for h5py>=2.9.0 from https://files.pythonhosted.org/packages/b6/35/ed21094eb4d8acf31ccc7666a4d8701c1ce38f8d1fa3c7036f24416f6337/h5py-3.10.0-cp311-cp311-win_amd64.whl.metadata\n",
      "  Downloading h5py-3.10.0-cp311-cp311-win_amd64.whl.metadata (2.5 kB)\n",
      "Collecting libclang>=13.0.0 (from tensorflow-intel==2.15.0->tensorflow)\n",
      "  Obtaining dependency information for libclang>=13.0.0 from https://files.pythonhosted.org/packages/02/8c/dc970bc00867fe290e8c8a7befa1635af716a9ebdfe3fb9dce0ca4b522ce/libclang-16.0.6-py2.py3-none-win_amd64.whl.metadata\n",
      "  Downloading libclang-16.0.6-py2.py3-none-win_amd64.whl.metadata (5.3 kB)\n",
      "Collecting ml-dtypes~=0.2.0 (from tensorflow-intel==2.15.0->tensorflow)\n",
      "  Obtaining dependency information for ml-dtypes~=0.2.0 from https://files.pythonhosted.org/packages/08/89/c727fde1a3d12586e0b8c01abf53754707d76beaa9987640e70807d4545f/ml_dtypes-0.2.0-cp311-cp311-win_amd64.whl.metadata\n",
      "  Downloading ml_dtypes-0.2.0-cp311-cp311-win_amd64.whl.metadata (20 kB)\n",
      "Requirement already satisfied: numpy<2.0.0,>=1.23.5 in c:\\users\\tarang rathod\\miniconda3\\envs\\lib\\site-packages (from tensorflow-intel==2.15.0->tensorflow) (1.25.2)\n",
      "Collecting opt-einsum>=2.3.2 (from tensorflow-intel==2.15.0->tensorflow)\n",
      "  Downloading opt_einsum-3.3.0-py3-none-any.whl (65 kB)\n",
      "     ---------------------------------------- 0.0/65.5 kB ? eta -:--:--\n",
      "     ---------------------------------------- 65.5/65.5 kB 3.5 MB/s eta 0:00:00\n",
      "Requirement already satisfied: packaging in c:\\users\\tarang rathod\\miniconda3\\envs\\lib\\site-packages (from tensorflow-intel==2.15.0->tensorflow) (23.2)\n",
      "Requirement already satisfied: protobuf!=4.21.0,!=4.21.1,!=4.21.2,!=4.21.3,!=4.21.4,!=4.21.5,<5.0.0dev,>=3.20.3 in c:\\users\\tarang rathod\\miniconda3\\envs\\lib\\site-packages (from tensorflow-intel==2.15.0->tensorflow) (4.25.2)\n",
      "Requirement already satisfied: setuptools in c:\\users\\tarang rathod\\miniconda3\\envs\\lib\\site-packages (from tensorflow-intel==2.15.0->tensorflow) (68.0.0)\n",
      "Requirement already satisfied: six>=1.12.0 in c:\\users\\tarang rathod\\miniconda3\\envs\\lib\\site-packages (from tensorflow-intel==2.15.0->tensorflow) (1.16.0)\n",
      "Collecting termcolor>=1.1.0 (from tensorflow-intel==2.15.0->tensorflow)\n",
      "  Obtaining dependency information for termcolor>=1.1.0 from https://files.pythonhosted.org/packages/d9/5f/8c716e47b3a50cbd7c146f45881e11d9414def768b7cd9c5e6650ec2a80a/termcolor-2.4.0-py3-none-any.whl.metadata\n",
      "  Downloading termcolor-2.4.0-py3-none-any.whl.metadata (6.1 kB)\n",
      "Requirement already satisfied: typing-extensions>=3.6.6 in c:\\users\\tarang rathod\\miniconda3\\envs\\lib\\site-packages (from tensorflow-intel==2.15.0->tensorflow) (4.9.0)\n",
      "Collecting wrapt<1.15,>=1.11.0 (from tensorflow-intel==2.15.0->tensorflow)\n",
      "  Obtaining dependency information for wrapt<1.15,>=1.11.0 from https://files.pythonhosted.org/packages/ba/7e/14113996bc6ee68eb987773b4139c87afd3ceff60e27e37648aa5eb2798a/wrapt-1.14.1-cp311-cp311-win_amd64.whl.metadata\n",
      "  Downloading wrapt-1.14.1-cp311-cp311-win_amd64.whl.metadata (6.9 kB)\n",
      "Collecting tensorflow-io-gcs-filesystem>=0.23.1 (from tensorflow-intel==2.15.0->tensorflow)\n",
      "  Obtaining dependency information for tensorflow-io-gcs-filesystem>=0.23.1 from https://files.pythonhosted.org/packages/ac/4e/9566a313927be582ca99455a9523a097c7888fc819695bdc08415432b202/tensorflow_io_gcs_filesystem-0.31.0-cp311-cp311-win_amd64.whl.metadata\n",
      "  Downloading tensorflow_io_gcs_filesystem-0.31.0-cp311-cp311-win_amd64.whl.metadata (14 kB)\n",
      "Collecting grpcio<2.0,>=1.24.3 (from tensorflow-intel==2.15.0->tensorflow)\n",
      "  Obtaining dependency information for grpcio<2.0,>=1.24.3 from https://files.pythonhosted.org/packages/02/2b/f1a3b06576a33f3a5b7b2f53cafaf3c2f11a1886c1ae7056ae17e82e4573/grpcio-1.62.0-cp311-cp311-win_amd64.whl.metadata\n",
      "  Downloading grpcio-1.62.0-cp311-cp311-win_amd64.whl.metadata (4.2 kB)\n",
      "Collecting tensorboard<2.16,>=2.15 (from tensorflow-intel==2.15.0->tensorflow)\n",
      "  Obtaining dependency information for tensorboard<2.16,>=2.15 from https://files.pythonhosted.org/packages/37/12/f6e9b9dcc310263cbd3948274e286538bd6800fd0c268850788f14a0c6d0/tensorboard-2.15.2-py3-none-any.whl.metadata\n",
      "  Downloading tensorboard-2.15.2-py3-none-any.whl.metadata (1.7 kB)\n",
      "Collecting tensorflow-estimator<2.16,>=2.15.0 (from tensorflow-intel==2.15.0->tensorflow)\n",
      "  Obtaining dependency information for tensorflow-estimator<2.16,>=2.15.0 from https://files.pythonhosted.org/packages/b6/c8/2f823c8958d5342eafc6dd3e922f0cc4fcf8c2e0460284cc462dae3b60a0/tensorflow_estimator-2.15.0-py2.py3-none-any.whl.metadata\n",
      "  Downloading tensorflow_estimator-2.15.0-py2.py3-none-any.whl.metadata (1.3 kB)\n",
      "Collecting keras<2.16,>=2.15.0 (from tensorflow-intel==2.15.0->tensorflow)\n",
      "  Obtaining dependency information for keras<2.16,>=2.15.0 from https://files.pythonhosted.org/packages/fc/a7/0d4490de967a67f68a538cc9cdb259bff971c4b5787f7765dc7c8f118f71/keras-2.15.0-py3-none-any.whl.metadata\n",
      "  Downloading keras-2.15.0-py3-none-any.whl.metadata (2.4 kB)\n",
      "Requirement already satisfied: wheel<1.0,>=0.23.0 in c:\\users\\tarang rathod\\miniconda3\\envs\\lib\\site-packages (from astunparse>=1.6.0->tensorflow-intel==2.15.0->tensorflow) (0.38.4)\n",
      "Collecting google-auth<3,>=1.6.3 (from tensorboard<2.16,>=2.15->tensorflow-intel==2.15.0->tensorflow)\n",
      "  Obtaining dependency information for google-auth<3,>=1.6.3 from https://files.pythonhosted.org/packages/b7/1d/f152a5f6d243b6acbb2a710ed19aa47154d678359bed995abdd9daf0cff0/google_auth-2.28.1-py2.py3-none-any.whl.metadata\n",
      "  Downloading google_auth-2.28.1-py2.py3-none-any.whl.metadata (4.7 kB)\n",
      "Collecting google-auth-oauthlib<2,>=0.5 (from tensorboard<2.16,>=2.15->tensorflow-intel==2.15.0->tensorflow)\n",
      "  Obtaining dependency information for google-auth-oauthlib<2,>=0.5 from https://files.pythonhosted.org/packages/71/bf/9e125754d1adb3bc4bd206c4e5df756513b1d23675ac06caa471278d1f3f/google_auth_oauthlib-1.2.0-py2.py3-none-any.whl.metadata\n",
      "  Downloading google_auth_oauthlib-1.2.0-py2.py3-none-any.whl.metadata (2.7 kB)\n",
      "Collecting markdown>=2.6.8 (from tensorboard<2.16,>=2.15->tensorflow-intel==2.15.0->tensorflow)\n",
      "  Obtaining dependency information for markdown>=2.6.8 from https://files.pythonhosted.org/packages/42/f4/f0031854de10a0bc7821ef9fca0b92ca0d7aa6fbfbf504c5473ba825e49c/Markdown-3.5.2-py3-none-any.whl.metadata\n",
      "  Downloading Markdown-3.5.2-py3-none-any.whl.metadata (7.0 kB)\n",
      "Requirement already satisfied: requests<3,>=2.21.0 in c:\\users\\tarang rathod\\miniconda3\\envs\\lib\\site-packages (from tensorboard<2.16,>=2.15->tensorflow-intel==2.15.0->tensorflow) (2.31.0)\n",
      "Collecting tensorboard-data-server<0.8.0,>=0.7.0 (from tensorboard<2.16,>=2.15->tensorflow-intel==2.15.0->tensorflow)\n",
      "  Obtaining dependency information for tensorboard-data-server<0.8.0,>=0.7.0 from https://files.pythonhosted.org/packages/7a/13/e503968fefabd4c6b2650af21e110aa8466fe21432cd7c43a84577a89438/tensorboard_data_server-0.7.2-py3-none-any.whl.metadata\n",
      "  Downloading tensorboard_data_server-0.7.2-py3-none-any.whl.metadata (1.1 kB)\n",
      "Requirement already satisfied: werkzeug>=1.0.1 in c:\\users\\tarang rathod\\miniconda3\\envs\\lib\\site-packages (from tensorboard<2.16,>=2.15->tensorflow-intel==2.15.0->tensorflow) (3.0.1)\n",
      "Requirement already satisfied: cachetools<6.0,>=2.0.0 in c:\\users\\tarang rathod\\miniconda3\\envs\\lib\\site-packages (from google-auth<3,>=1.6.3->tensorboard<2.16,>=2.15->tensorflow-intel==2.15.0->tensorflow) (5.3.2)\n",
      "Collecting pyasn1-modules>=0.2.1 (from google-auth<3,>=1.6.3->tensorboard<2.16,>=2.15->tensorflow-intel==2.15.0->tensorflow)\n",
      "  Obtaining dependency information for pyasn1-modules>=0.2.1 from https://files.pythonhosted.org/packages/cd/8e/bea464350e1b8c6ed0da3a312659cb648804a08af6cacc6435867f74f8bd/pyasn1_modules-0.3.0-py2.py3-none-any.whl.metadata\n",
      "  Downloading pyasn1_modules-0.3.0-py2.py3-none-any.whl.metadata (3.6 kB)\n",
      "Collecting rsa<5,>=3.1.4 (from google-auth<3,>=1.6.3->tensorboard<2.16,>=2.15->tensorflow-intel==2.15.0->tensorflow)\n",
      "  Obtaining dependency information for rsa<5,>=3.1.4 from https://files.pythonhosted.org/packages/49/97/fa78e3d2f65c02c8e1268b9aba606569fe97f6c8f7c2d74394553347c145/rsa-4.9-py3-none-any.whl.metadata\n",
      "  Downloading rsa-4.9-py3-none-any.whl.metadata (4.2 kB)\n",
      "Collecting requests-oauthlib>=0.7.0 (from google-auth-oauthlib<2,>=0.5->tensorboard<2.16,>=2.15->tensorflow-intel==2.15.0->tensorflow)\n",
      "  Downloading requests_oauthlib-1.3.1-py2.py3-none-any.whl (23 kB)\n",
      "Requirement already satisfied: charset-normalizer<4,>=2 in c:\\users\\tarang rathod\\miniconda3\\envs\\lib\\site-packages (from requests<3,>=2.21.0->tensorboard<2.16,>=2.15->tensorflow-intel==2.15.0->tensorflow) (2.0.4)\n",
      "Requirement already satisfied: idna<4,>=2.5 in c:\\users\\tarang rathod\\miniconda3\\envs\\lib\\site-packages (from requests<3,>=2.21.0->tensorboard<2.16,>=2.15->tensorflow-intel==2.15.0->tensorflow) (3.4)\n",
      "Requirement already satisfied: urllib3<3,>=1.21.1 in c:\\users\\tarang rathod\\miniconda3\\envs\\lib\\site-packages (from requests<3,>=2.21.0->tensorboard<2.16,>=2.15->tensorflow-intel==2.15.0->tensorflow) (1.26.16)\n",
      "Requirement already satisfied: certifi>=2017.4.17 in c:\\users\\tarang rathod\\miniconda3\\envs\\lib\\site-packages (from requests<3,>=2.21.0->tensorboard<2.16,>=2.15->tensorflow-intel==2.15.0->tensorflow) (2023.7.22)\n",
      "Requirement already satisfied: MarkupSafe>=2.1.1 in c:\\users\\tarang rathod\\miniconda3\\envs\\lib\\site-packages (from werkzeug>=1.0.1->tensorboard<2.16,>=2.15->tensorflow-intel==2.15.0->tensorflow) (2.1.1)\n",
      "Collecting pyasn1<0.6.0,>=0.4.6 (from pyasn1-modules>=0.2.1->google-auth<3,>=1.6.3->tensorboard<2.16,>=2.15->tensorflow-intel==2.15.0->tensorflow)\n",
      "  Obtaining dependency information for pyasn1<0.6.0,>=0.4.6 from https://files.pythonhosted.org/packages/d1/75/4686d2872bf2fc0b37917cbc8bbf0dd3a5cdb0990799be1b9cbf1e1eb733/pyasn1-0.5.1-py2.py3-none-any.whl.metadata\n",
      "  Downloading pyasn1-0.5.1-py2.py3-none-any.whl.metadata (8.6 kB)\n",
      "Collecting oauthlib>=3.0.0 (from requests-oauthlib>=0.7.0->google-auth-oauthlib<2,>=0.5->tensorboard<2.16,>=2.15->tensorflow-intel==2.15.0->tensorflow)\n",
      "  Obtaining dependency information for oauthlib>=3.0.0 from https://files.pythonhosted.org/packages/7e/80/cab10959dc1faead58dc8384a781dfbf93cb4d33d50988f7a69f1b7c9bbe/oauthlib-3.2.2-py3-none-any.whl.metadata\n",
      "  Downloading oauthlib-3.2.2-py3-none-any.whl.metadata (7.5 kB)\n",
      "Downloading tensorflow-2.15.0-cp311-cp311-win_amd64.whl (2.1 kB)\n",
      "Downloading tensorflow_intel-2.15.0-cp311-cp311-win_amd64.whl (300.9 MB)\n",
      "   ---------------------------------------- 0.0/300.9 MB ? eta -:--:--\n",
      "   ---------------------------------------- 1.8/300.9 MB 55.0 MB/s eta 0:00:06\n",
      "    --------------------------------------- 3.8/300.9 MB 47.6 MB/s eta 0:00:07\n",
      "    --------------------------------------- 5.8/300.9 MB 46.4 MB/s eta 0:00:07\n",
      "   - -------------------------------------- 7.8/300.9 MB 45.4 MB/s eta 0:00:07\n",
      "   - -------------------------------------- 9.9/300.9 MB 45.4 MB/s eta 0:00:07\n",
      "   - -------------------------------------- 12.1/300.9 MB 46.7 MB/s eta 0:00:07\n",
      "   - -------------------------------------- 13.5/300.9 MB 40.9 MB/s eta 0:00:08\n",
      "   - -------------------------------------- 14.7/300.9 MB 38.5 MB/s eta 0:00:08\n",
      "   -- ------------------------------------- 16.9/300.9 MB 40.9 MB/s eta 0:00:07\n",
      "   -- ------------------------------------- 19.1/300.9 MB 40.9 MB/s eta 0:00:07\n",
      "   -- ------------------------------------- 21.0/300.9 MB 38.6 MB/s eta 0:00:08\n",
      "   --- ------------------------------------ 23.0/300.9 MB 43.7 MB/s eta 0:00:07\n",
      "   --- ------------------------------------ 24.6/300.9 MB 43.7 MB/s eta 0:00:07\n",
      "   --- ------------------------------------ 26.5/300.9 MB 43.7 MB/s eta 0:00:07\n",
      "   --- ------------------------------------ 28.5/300.9 MB 40.9 MB/s eta 0:00:07\n",
      "   ---- ----------------------------------- 30.2/300.9 MB 40.9 MB/s eta 0:00:07\n",
      "   ---- ----------------------------------- 32.0/300.9 MB 40.9 MB/s eta 0:00:07\n",
      "   ---- ----------------------------------- 34.2/300.9 MB 40.9 MB/s eta 0:00:07\n",
      "   ---- ----------------------------------- 35.6/300.9 MB 36.4 MB/s eta 0:00:08\n",
      "   ----- ---------------------------------- 37.9/300.9 MB 38.5 MB/s eta 0:00:07\n",
      "   ----- ---------------------------------- 38.2/300.9 MB 40.9 MB/s eta 0:00:07\n",
      "   ----- ---------------------------------- 40.1/300.9 MB 34.4 MB/s eta 0:00:08\n",
      "   ----- ---------------------------------- 42.4/300.9 MB 38.5 MB/s eta 0:00:07\n",
      "   ----- ---------------------------------- 44.0/300.9 MB 34.6 MB/s eta 0:00:08\n",
      "   ------ --------------------------------- 46.3/300.9 MB 38.5 MB/s eta 0:00:07\n",
      "   ------ --------------------------------- 47.8/300.9 MB 36.3 MB/s eta 0:00:07\n",
      "   ------ --------------------------------- 48.9/300.9 MB 40.9 MB/s eta 0:00:07\n",
      "   ------ --------------------------------- 50.0/300.9 MB 34.4 MB/s eta 0:00:08\n",
      "   ------ --------------------------------- 51.3/300.9 MB 34.4 MB/s eta 0:00:08\n",
      "   ------ --------------------------------- 52.0/300.9 MB 31.2 MB/s eta 0:00:08\n",
      "   ------- -------------------------------- 53.3/300.9 MB 29.7 MB/s eta 0:00:09\n",
      "   ------- -------------------------------- 54.6/300.9 MB 28.4 MB/s eta 0:00:09\n",
      "   ------- -------------------------------- 55.9/300.9 MB 27.3 MB/s eta 0:00:09\n",
      "   ------- -------------------------------- 56.9/300.9 MB 25.1 MB/s eta 0:00:10\n",
      "   ------- -------------------------------- 58.6/300.9 MB 26.2 MB/s eta 0:00:10\n",
      "   -------- ------------------------------- 60.7/300.9 MB 28.5 MB/s eta 0:00:09\n",
      "   -------- ------------------------------- 62.9/300.9 MB 34.4 MB/s eta 0:00:07\n",
      "   -------- ------------------------------- 65.0/300.9 MB 38.5 MB/s eta 0:00:07\n",
      "   -------- ------------------------------- 67.0/300.9 MB 43.7 MB/s eta 0:00:06\n",
      "   --------- ------------------------------ 68.9/300.9 MB 43.7 MB/s eta 0:00:06\n",
      "   --------- ------------------------------ 70.8/300.9 MB 40.9 MB/s eta 0:00:06\n",
      "   --------- ------------------------------ 72.7/300.9 MB 43.5 MB/s eta 0:00:06\n",
      "   --------- ------------------------------ 74.1/300.9 MB 40.9 MB/s eta 0:00:06\n",
      "   ---------- ----------------------------- 75.7/300.9 MB 38.6 MB/s eta 0:00:06\n",
      "   ---------- ----------------------------- 77.6/300.9 MB 36.4 MB/s eta 0:00:07\n",
      "   ---------- ----------------------------- 79.6/300.9 MB 40.9 MB/s eta 0:00:06\n",
      "   ---------- ----------------------------- 81.4/300.9 MB 38.5 MB/s eta 0:00:06\n",
      "   ----------- ---------------------------- 83.3/300.9 MB 38.5 MB/s eta 0:00:06\n",
      "   ----------- ---------------------------- 85.3/300.9 MB 40.9 MB/s eta 0:00:06\n",
      "   ----------- ---------------------------- 87.3/300.9 MB 43.5 MB/s eta 0:00:05\n",
      "   ----------- ---------------------------- 89.2/300.9 MB 40.9 MB/s eta 0:00:06\n",
      "   ------------ --------------------------- 90.7/300.9 MB 40.9 MB/s eta 0:00:06\n",
      "   ------------ --------------------------- 92.8/300.9 MB 40.9 MB/s eta 0:00:06\n",
      "   ------------ --------------------------- 94.1/300.9 MB 38.5 MB/s eta 0:00:06\n",
      "   ------------ --------------------------- 96.0/300.9 MB 38.5 MB/s eta 0:00:06\n",
      "   ------------ --------------------------- 97.0/300.9 MB 34.4 MB/s eta 0:00:06\n",
      "   ------------- -------------------------- 99.1/300.9 MB 36.3 MB/s eta 0:00:06\n",
      "   ------------- ------------------------- 101.0/300.9 MB 38.5 MB/s eta 0:00:06\n",
      "   ------------- ------------------------- 102.3/300.9 MB 36.4 MB/s eta 0:00:06\n",
      "   ------------- ------------------------- 103.7/300.9 MB 36.3 MB/s eta 0:00:06\n",
      "   ------------- ------------------------- 105.3/300.9 MB 34.4 MB/s eta 0:00:06\n",
      "   ------------- ------------------------- 107.2/300.9 MB 36.4 MB/s eta 0:00:06\n",
      "   -------------- ------------------------ 109.1/300.9 MB 36.4 MB/s eta 0:00:06\n",
      "   -------------- ------------------------ 110.7/300.9 MB 34.4 MB/s eta 0:00:06\n",
      "   -------------- ------------------------ 111.9/300.9 MB 32.7 MB/s eta 0:00:06\n",
      "   -------------- ------------------------ 113.7/300.9 MB 34.4 MB/s eta 0:00:06\n",
      "   -------------- ------------------------ 114.9/300.9 MB 34.6 MB/s eta 0:00:06\n",
      "   --------------- ----------------------- 117.0/300.9 MB 36.4 MB/s eta 0:00:06\n",
      "   --------------- ----------------------- 119.0/300.9 MB 34.4 MB/s eta 0:00:06\n",
      "   --------------- ----------------------- 121.0/300.9 MB 36.4 MB/s eta 0:00:05\n",
      "   --------------- ----------------------- 122.5/300.9 MB 38.5 MB/s eta 0:00:05\n",
      "   ---------------- ---------------------- 124.2/300.9 MB 38.5 MB/s eta 0:00:05\n",
      "   ---------------- ---------------------- 125.7/300.9 MB 38.5 MB/s eta 0:00:05\n",
      "   ---------------- ---------------------- 127.3/300.9 MB 36.3 MB/s eta 0:00:05\n",
      "   ---------------- ---------------------- 129.4/300.9 MB 38.6 MB/s eta 0:00:05\n",
      "   ---------------- ---------------------- 130.6/300.9 MB 34.4 MB/s eta 0:00:05\n",
      "   ----------------- --------------------- 131.7/300.9 MB 32.8 MB/s eta 0:00:06\n",
      "   ----------------- --------------------- 132.9/300.9 MB 32.8 MB/s eta 0:00:06\n",
      "   ----------------- --------------------- 134.2/300.9 MB 31.2 MB/s eta 0:00:06\n",
      "   ----------------- --------------------- 135.6/300.9 MB 29.7 MB/s eta 0:00:06\n",
      "   ----------------- --------------------- 137.9/300.9 MB 32.7 MB/s eta 0:00:05\n",
      "   ------------------ -------------------- 139.3/300.9 MB 31.1 MB/s eta 0:00:06\n",
      "   ------------------ -------------------- 141.6/300.9 MB 36.4 MB/s eta 0:00:05\n",
      "   ------------------ -------------------- 143.3/300.9 MB 38.5 MB/s eta 0:00:05\n",
      "   ------------------ -------------------- 144.9/300.9 MB 38.6 MB/s eta 0:00:05\n",
      "   ------------------- ------------------- 146.7/300.9 MB 38.5 MB/s eta 0:00:05\n",
      "   ------------------- ------------------- 146.8/300.9 MB 40.9 MB/s eta 0:00:04\n",
      "   ------------------- ------------------- 146.8/300.9 MB 40.9 MB/s eta 0:00:04\n",
      "   ------------------- ------------------- 149.4/300.9 MB 29.7 MB/s eta 0:00:06\n",
      "   ------------------- ------------------- 150.7/300.9 MB 29.7 MB/s eta 0:00:06\n",
      "   ------------------- ------------------- 153.0/300.9 MB 29.8 MB/s eta 0:00:05\n",
      "   -------------------- ------------------ 155.3/300.9 MB 32.8 MB/s eta 0:00:05\n",
      "   -------------------- ------------------ 157.6/300.9 MB 50.4 MB/s eta 0:00:03\n",
      "   -------------------- ------------------ 160.2/300.9 MB 50.4 MB/s eta 0:00:03\n",
      "   --------------------- ----------------- 162.5/300.9 MB 50.4 MB/s eta 0:00:03\n",
      "   --------------------- ----------------- 164.2/300.9 MB 46.7 MB/s eta 0:00:03\n",
      "   --------------------- ----------------- 166.3/300.9 MB 46.7 MB/s eta 0:00:03\n",
      "   --------------------- ----------------- 168.4/300.9 MB 46.7 MB/s eta 0:00:03\n",
      "   ---------------------- ---------------- 170.8/300.9 MB 46.9 MB/s eta 0:00:03\n",
      "   ---------------------- ---------------- 172.7/300.9 MB 43.7 MB/s eta 0:00:03\n",
      "   ---------------------- ---------------- 175.2/300.9 MB 50.4 MB/s eta 0:00:03\n",
      "   ---------------------- ---------------- 176.4/300.9 MB 43.7 MB/s eta 0:00:03\n",
      "   ---------------------- ---------------- 176.5/300.9 MB 40.9 MB/s eta 0:00:04\n",
      "   ---------------------- ---------------- 176.5/300.9 MB 40.9 MB/s eta 0:00:04\n",
      "   ---------------------- ---------------- 176.5/300.9 MB 40.9 MB/s eta 0:00:04\n",
      "   ---------------------- ---------------- 176.5/300.9 MB 40.9 MB/s eta 0:00:04\n",
      "   ---------------------- ---------------- 176.5/300.9 MB 40.9 MB/s eta 0:00:04\n",
      "   ----------------------- --------------- 178.2/300.9 MB 22.6 MB/s eta 0:00:06\n",
      "   ----------------------- --------------- 180.0/300.9 MB 21.1 MB/s eta 0:00:06\n",
      "   ----------------------- --------------- 182.2/300.9 MB 21.1 MB/s eta 0:00:06\n",
      "   ----------------------- --------------- 184.5/300.9 MB 21.1 MB/s eta 0:00:06\n",
      "   ------------------------ -------------- 186.8/300.9 MB 46.7 MB/s eta 0:00:03\n",
      "   ------------------------ -------------- 189.1/300.9 MB 46.7 MB/s eta 0:00:03\n",
      "   ------------------------ -------------- 191.6/300.9 MB 50.1 MB/s eta 0:00:03\n",
      "   ------------------------- ------------- 193.7/300.9 MB 50.4 MB/s eta 0:00:03\n",
      "   ------------------------- ------------- 196.1/300.9 MB 50.4 MB/s eta 0:00:03\n",
      "   ------------------------- ------------- 197.7/300.9 MB 46.7 MB/s eta 0:00:03\n",
      "   ------------------------- ------------- 199.6/300.9 MB 43.7 MB/s eta 0:00:03\n",
      "   -------------------------- ------------ 201.4/300.9 MB 40.9 MB/s eta 0:00:03\n",
      "   -------------------------- ------------ 203.9/300.9 MB 43.5 MB/s eta 0:00:03\n",
      "   -------------------------- ------------ 205.1/300.9 MB 38.5 MB/s eta 0:00:03\n",
      "   -------------------------- ------------ 206.6/300.9 MB 36.3 MB/s eta 0:00:03\n",
      "   --------------------------- ----------- 209.1/300.9 MB 40.9 MB/s eta 0:00:03\n",
      "   --------------------------- ----------- 210.8/300.9 MB 38.6 MB/s eta 0:00:03\n",
      "   --------------------------- ----------- 212.3/300.9 MB 36.4 MB/s eta 0:00:03\n",
      "   --------------------------- ----------- 214.5/300.9 MB 38.5 MB/s eta 0:00:03\n",
      "   ---------------------------- ---------- 216.1/300.9 MB 40.9 MB/s eta 0:00:03\n",
      "   ---------------------------- ---------- 217.4/300.9 MB 38.5 MB/s eta 0:00:03\n",
      "   ---------------------------- ---------- 219.4/300.9 MB 36.3 MB/s eta 0:00:03\n",
      "   ---------------------------- ---------- 221.0/300.9 MB 36.3 MB/s eta 0:00:03\n",
      "   ---------------------------- ---------- 222.7/300.9 MB 36.4 MB/s eta 0:00:03\n",
      "   ----------------------------- --------- 224.4/300.9 MB 38.5 MB/s eta 0:00:02\n",
      "   ----------------------------- --------- 225.5/300.9 MB 34.4 MB/s eta 0:00:03\n",
      "   ----------------------------- --------- 227.7/300.9 MB 36.4 MB/s eta 0:00:03\n",
      "   ----------------------------- --------- 229.3/300.9 MB 36.4 MB/s eta 0:00:02\n",
      "   ----------------------------- --------- 231.4/300.9 MB 36.4 MB/s eta 0:00:02\n",
      "   ------------------------------ -------- 233.8/300.9 MB 38.5 MB/s eta 0:00:02\n",
      "   ------------------------------ -------- 236.3/300.9 MB 46.7 MB/s eta 0:00:02\n",
      "   ------------------------------ -------- 238.0/300.9 MB 46.9 MB/s eta 0:00:02\n",
      "   ------------------------------- ------- 239.3/300.9 MB 43.7 MB/s eta 0:00:02\n",
      "   ------------------------------- ------- 241.5/300.9 MB 43.7 MB/s eta 0:00:02\n",
      "   ------------------------------- ------- 243.6/300.9 MB 43.7 MB/s eta 0:00:02\n",
      "   ------------------------------- ------- 245.8/300.9 MB 40.9 MB/s eta 0:00:02\n",
      "   -------------------------------- ------ 247.8/300.9 MB 43.5 MB/s eta 0:00:02\n",
      "   -------------------------------- ------ 250.1/300.9 MB 46.7 MB/s eta 0:00:02\n",
      "   -------------------------------- ------ 250.8/300.9 MB 43.7 MB/s eta 0:00:02\n",
      "   -------------------------------- ------ 250.8/300.9 MB 43.7 MB/s eta 0:00:02\n",
      "   -------------------------------- ------ 250.8/300.9 MB 43.7 MB/s eta 0:00:02\n",
      "   -------------------------------- ------ 250.8/300.9 MB 43.7 MB/s eta 0:00:02\n",
      "   -------------------------------- ------ 250.8/300.9 MB 43.7 MB/s eta 0:00:02\n",
      "   -------------------------------- ------ 251.4/300.9 MB 21.8 MB/s eta 0:00:03\n",
      "   -------------------------------- ------ 253.6/300.9 MB 21.8 MB/s eta 0:00:03\n",
      "   --------------------------------- ----- 256.0/300.9 MB 21.8 MB/s eta 0:00:03\n",
      "   --------------------------------- ----- 257.7/300.9 MB 21.1 MB/s eta 0:00:03\n",
      "   --------------------------------- ----- 260.0/300.9 MB 21.1 MB/s eta 0:00:02\n",
      "   ---------------------------------- ---- 262.4/300.9 MB 50.4 MB/s eta 0:00:01\n",
      "   ---------------------------------- ---- 263.5/300.9 MB 46.7 MB/s eta 0:00:01\n",
      "   ---------------------------------- ---- 263.6/300.9 MB 38.6 MB/s eta 0:00:01\n",
      "   ---------------------------------- ---- 263.6/300.9 MB 32.8 MB/s eta 0:00:02\n",
      "   ---------------------------------- ---- 263.6/300.9 MB 29.7 MB/s eta 0:00:02\n",
      "   ---------------------------------- ---- 263.6/300.9 MB 26.2 MB/s eta 0:00:02\n",
      "   ---------------------------------- ---- 263.9/300.9 MB 21.8 MB/s eta 0:00:02\n",
      "   ---------------------------------- ---- 266.2/300.9 MB 21.9 MB/s eta 0:00:02\n",
      "   ---------------------------------- ---- 267.9/300.9 MB 21.9 MB/s eta 0:00:02\n",
      "   ----------------------------------- --- 270.2/300.9 MB 21.8 MB/s eta 0:00:02\n",
      "   ----------------------------------- --- 272.2/300.9 MB 21.8 MB/s eta 0:00:02\n",
      "   ----------------------------------- --- 274.3/300.9 MB 46.7 MB/s eta 0:00:01\n",
      "   ----------------------------------- --- 276.9/300.9 MB 46.7 MB/s eta 0:00:01\n",
      "   ------------------------------------ -- 279.2/300.9 MB 50.4 MB/s eta 0:00:01\n",
      "   ------------------------------------ -- 281.6/300.9 MB 50.1 MB/s eta 0:00:01\n",
      "   ------------------------------------ -- 283.8/300.9 MB 46.9 MB/s eta 0:00:01\n",
      "   ------------------------------------ -- 285.4/300.9 MB 46.9 MB/s eta 0:00:01\n",
      "   ------------------------------------- - 287.9/300.9 MB 46.7 MB/s eta 0:00:01\n",
      "   ------------------------------------- - 290.2/300.9 MB 46.7 MB/s eta 0:00:01\n",
      "   ------------------------------------- - 291.8/300.9 MB 43.7 MB/s eta 0:00:01\n",
      "   --------------------------------------  293.5/300.9 MB 40.9 MB/s eta 0:00:01\n",
      "   --------------------------------------  296.0/300.9 MB 46.7 MB/s eta 0:00:01\n",
      "   --------------------------------------  298.1/300.9 MB 43.5 MB/s eta 0:00:01\n",
      "   --------------------------------------  299.9/300.9 MB 43.7 MB/s eta 0:00:01\n",
      "   --------------------------------------  300.9/300.9 MB 43.7 MB/s eta 0:00:01\n",
      "   --------------------------------------  300.9/300.9 MB 43.7 MB/s eta 0:00:01\n",
      "   --------------------------------------  300.9/300.9 MB 43.7 MB/s eta 0:00:01\n",
      "   --------------------------------------  300.9/300.9 MB 43.7 MB/s eta 0:00:01\n",
      "   --------------------------------------  300.9/300.9 MB 43.7 MB/s eta 0:00:01\n",
      "   --------------------------------------  300.9/300.9 MB 43.7 MB/s eta 0:00:01\n",
      "   --------------------------------------  300.9/300.9 MB 43.7 MB/s eta 0:00:01\n",
      "   --------------------------------------  300.9/300.9 MB 43.7 MB/s eta 0:00:01\n",
      "   --------------------------------------  300.9/300.9 MB 43.7 MB/s eta 0:00:01\n",
      "   --------------------------------------  300.9/300.9 MB 43.7 MB/s eta 0:00:01\n",
      "   --------------------------------------  300.9/300.9 MB 43.7 MB/s eta 0:00:01\n",
      "   --------------------------------------  300.9/300.9 MB 43.7 MB/s eta 0:00:01\n",
      "   --------------------------------------  300.9/300.9 MB 43.7 MB/s eta 0:00:01\n",
      "   --------------------------------------  300.9/300.9 MB 43.7 MB/s eta 0:00:01\n",
      "   --------------------------------------  300.9/300.9 MB 43.7 MB/s eta 0:00:01\n",
      "   --------------------------------------  300.9/300.9 MB 43.7 MB/s eta 0:00:01\n",
      "   --------------------------------------  300.9/300.9 MB 43.7 MB/s eta 0:00:01\n",
      "   --------------------------------------  300.9/300.9 MB 43.7 MB/s eta 0:00:01\n",
      "   --------------------------------------  300.9/300.9 MB 43.7 MB/s eta 0:00:01\n",
      "   --------------------------------------  300.9/300.9 MB 43.7 MB/s eta 0:00:01\n",
      "   --------------------------------------  300.9/300.9 MB 43.7 MB/s eta 0:00:01\n",
      "   --------------------------------------  300.9/300.9 MB 43.7 MB/s eta 0:00:01\n",
      "   --------------------------------------  300.9/300.9 MB 43.7 MB/s eta 0:00:01\n",
      "   --------------------------------------  300.9/300.9 MB 43.7 MB/s eta 0:00:01\n",
      "   --------------------------------------  300.9/300.9 MB 43.7 MB/s eta 0:00:01\n",
      "   --------------------------------------  300.9/300.9 MB 43.7 MB/s eta 0:00:01\n",
      "   --------------------------------------  300.9/300.9 MB 43.7 MB/s eta 0:00:01\n",
      "   --------------------------------------  300.9/300.9 MB 43.7 MB/s eta 0:00:01\n",
      "   --------------------------------------  300.9/300.9 MB 43.7 MB/s eta 0:00:01\n",
      "   --------------------------------------  300.9/300.9 MB 43.7 MB/s eta 0:00:01\n",
      "   --------------------------------------  300.9/300.9 MB 43.7 MB/s eta 0:00:01\n",
      "   --------------------------------------  300.9/300.9 MB 43.7 MB/s eta 0:00:01\n",
      "   --------------------------------------  300.9/300.9 MB 43.7 MB/s eta 0:00:01\n",
      "   --------------------------------------  300.9/300.9 MB 43.7 MB/s eta 0:00:01\n",
      "   --------------------------------------  300.9/300.9 MB 43.7 MB/s eta 0:00:01\n",
      "   --------------------------------------  300.9/300.9 MB 43.7 MB/s eta 0:00:01\n",
      "   --------------------------------------  300.9/300.9 MB 43.7 MB/s eta 0:00:01\n",
      "   --------------------------------------  300.9/300.9 MB 43.7 MB/s eta 0:00:01\n",
      "   --------------------------------------  300.9/300.9 MB 43.7 MB/s eta 0:00:01\n",
      "   --------------------------------------  300.9/300.9 MB 43.7 MB/s eta 0:00:01\n",
      "   --------------------------------------  300.9/300.9 MB 43.7 MB/s eta 0:00:01\n",
      "   --------------------------------------  300.9/300.9 MB 43.7 MB/s eta 0:00:01\n",
      "   --------------------------------------  300.9/300.9 MB 43.7 MB/s eta 0:00:01\n",
      "   --------------------------------------  300.9/300.9 MB 43.7 MB/s eta 0:00:01\n",
      "   --------------------------------------  300.9/300.9 MB 43.7 MB/s eta 0:00:01\n",
      "   --------------------------------------  300.9/300.9 MB 43.7 MB/s eta 0:00:01\n",
      "   --------------------------------------  300.9/300.9 MB 43.7 MB/s eta 0:00:01\n",
      "   --------------------------------------  300.9/300.9 MB 43.7 MB/s eta 0:00:01\n",
      "   --------------------------------------  300.9/300.9 MB 43.7 MB/s eta 0:00:01\n",
      "   --------------------------------------  300.9/300.9 MB 43.7 MB/s eta 0:00:01\n",
      "   --------------------------------------  300.9/300.9 MB 43.7 MB/s eta 0:00:01\n",
      "   --------------------------------------  300.9/300.9 MB 43.7 MB/s eta 0:00:01\n",
      "   --------------------------------------  300.9/300.9 MB 43.7 MB/s eta 0:00:01\n",
      "   --------------------------------------  300.9/300.9 MB 43.7 MB/s eta 0:00:01\n",
      "   --------------------------------------  300.9/300.9 MB 43.7 MB/s eta 0:00:01\n",
      "   --------------------------------------  300.9/300.9 MB 43.7 MB/s eta 0:00:01\n",
      "   ---------------------------------------- 300.9/300.9 MB 3.2 MB/s eta 0:00:00\n",
      "Downloading absl_py-2.1.0-py3-none-any.whl (133 kB)\n",
      "   ---------------------------------------- 0.0/133.7 kB ? eta -:--:--\n",
      "   ---------------------------------------- 133.7/133.7 kB ? eta 0:00:00\n",
      "Downloading flatbuffers-23.5.26-py2.py3-none-any.whl (26 kB)\n",
      "Downloading gast-0.5.4-py3-none-any.whl (19 kB)\n",
      "Downloading grpcio-1.62.0-cp311-cp311-win_amd64.whl (3.8 MB)\n",
      "   ---------------------------------------- 0.0/3.8 MB ? eta -:--:--\n",
      "   ----------------- ---------------------- 1.7/3.8 MB 35.7 MB/s eta 0:00:01\n",
      "   ------------------------------------- -- 3.6/3.8 MB 37.8 MB/s eta 0:00:01\n",
      "   ---------------------------------------- 3.8/3.8 MB 30.2 MB/s eta 0:00:00\n",
      "Downloading h5py-3.10.0-cp311-cp311-win_amd64.whl (2.7 MB)\n",
      "   ---------------------------------------- 0.0/2.7 MB ? eta -:--:--\n",
      "   --------------- ------------------------ 1.0/2.7 MB 33.4 MB/s eta 0:00:01\n",
      "   ---------------------------------------  2.7/2.7 MB 34.1 MB/s eta 0:00:01\n",
      "   ---------------------------------------- 2.7/2.7 MB 24.4 MB/s eta 0:00:00\n",
      "Downloading keras-2.15.0-py3-none-any.whl (1.7 MB)\n",
      "   ---------------------------------------- 0.0/1.7 MB ? eta -:--:--\n",
      "   ------------------------ --------------- 1.0/1.7 MB 33.4 MB/s eta 0:00:01\n",
      "   ---------------------------------------- 1.7/1.7 MB 21.8 MB/s eta 0:00:00\n",
      "Downloading libclang-16.0.6-py2.py3-none-win_amd64.whl (24.4 MB)\n",
      "   ---------------------------------------- 0.0/24.4 MB ? eta -:--:--\n",
      "   -- ------------------------------------- 1.5/24.4 MB 47.4 MB/s eta 0:00:01\n",
      "   ---- ----------------------------------- 3.0/24.4 MB 37.5 MB/s eta 0:00:01\n",
      "   ------ --------------------------------- 4.1/24.4 MB 33.0 MB/s eta 0:00:01\n",
      "   -------- ------------------------------- 5.1/24.4 MB 29.5 MB/s eta 0:00:01\n",
      "   --------- ------------------------------ 6.0/24.4 MB 27.3 MB/s eta 0:00:01\n",
      "   ----------- ---------------------------- 6.9/24.4 MB 25.8 MB/s eta 0:00:01\n",
      "   ------------ --------------------------- 7.9/24.4 MB 25.3 MB/s eta 0:00:01\n",
      "   -------------- ------------------------- 8.9/24.4 MB 24.6 MB/s eta 0:00:01\n",
      "   ---------------- ----------------------- 10.2/24.4 MB 25.1 MB/s eta 0:00:01\n",
      "   ------------------- -------------------- 12.2/24.4 MB 25.1 MB/s eta 0:00:01\n",
      "   ----------------------- ---------------- 14.1/24.4 MB 26.2 MB/s eta 0:00:01\n",
      "   ------------------------- -------------- 15.5/24.4 MB 28.5 MB/s eta 0:00:01\n",
      "   ---------------------------- ----------- 17.5/24.4 MB 31.2 MB/s eta 0:00:01\n",
      "   ------------------------------- -------- 19.5/24.4 MB 38.5 MB/s eta 0:00:01\n",
      "   ----------------------------------- ---- 21.5/24.4 MB 38.5 MB/s eta 0:00:01\n",
      "   ------------------------------------- -- 23.1/24.4 MB 38.5 MB/s eta 0:00:01\n",
      "   ---------------------------------------  24.4/24.4 MB 38.5 MB/s eta 0:00:01\n",
      "   ---------------------------------------  24.4/24.4 MB 36.4 MB/s eta 0:00:01\n",
      "   ---------------------------------------  24.4/24.4 MB 36.4 MB/s eta 0:00:01\n",
      "   ---------------------------------------  24.4/24.4 MB 36.4 MB/s eta 0:00:01\n",
      "   ---------------------------------------  24.4/24.4 MB 36.4 MB/s eta 0:00:01\n",
      "   ---------------------------------------  24.4/24.4 MB 36.4 MB/s eta 0:00:01\n",
      "   ---------------------------------------  24.4/24.4 MB 36.4 MB/s eta 0:00:01\n",
      "   ---------------------------------------  24.4/24.4 MB 36.4 MB/s eta 0:00:01\n",
      "   ---------------------------------------  24.4/24.4 MB 36.4 MB/s eta 0:00:01\n",
      "   ---------------------------------------- 24.4/24.4 MB 15.2 MB/s eta 0:00:00\n",
      "Downloading ml_dtypes-0.2.0-cp311-cp311-win_amd64.whl (938 kB)\n",
      "   ---------------------------------------- 0.0/938.7 kB ? eta -:--:--\n",
      "   ------------------------------- ------- 747.5/938.7 kB 23.8 MB/s eta 0:00:01\n",
      "   --------------------------------------- 938.7/938.7 kB 15.0 MB/s eta 0:00:00\n",
      "Downloading tensorboard-2.15.2-py3-none-any.whl (5.5 MB)\n",
      "   ---------------------------------------- 0.0/5.5 MB ? eta -:--:--\n",
      "   ------------ --------------------------- 1.8/5.5 MB 37.7 MB/s eta 0:00:01\n",
      "   -------------------------- ------------- 3.7/5.5 MB 40.1 MB/s eta 0:00:01\n",
      "   ------------------------------------- -- 5.2/5.5 MB 41.9 MB/s eta 0:00:01\n",
      "   ---------------------------------------  5.5/5.5 MB 35.4 MB/s eta 0:00:01\n",
      "   ---------------------------------------- 5.5/5.5 MB 29.6 MB/s eta 0:00:00\n",
      "Downloading tensorflow_estimator-2.15.0-py2.py3-none-any.whl (441 kB)\n",
      "   ---------------------------------------- 0.0/442.0 kB ? eta -:--:--\n",
      "   --------------------------------------- 442.0/442.0 kB 27.0 MB/s eta 0:00:00\n",
      "Downloading tensorflow_io_gcs_filesystem-0.31.0-cp311-cp311-win_amd64.whl (1.5 MB)\n",
      "   ---------------------------------------- 0.0/1.5 MB ? eta -:--:--\n",
      "   ---------------------------------------  1.5/1.5 MB 47.6 MB/s eta 0:00:01\n",
      "   ---------------------------------------- 1.5/1.5 MB 31.4 MB/s eta 0:00:00\n",
      "Downloading termcolor-2.4.0-py3-none-any.whl (7.7 kB)\n",
      "Downloading wrapt-1.14.1-cp311-cp311-win_amd64.whl (35 kB)\n",
      "Downloading google_auth-2.28.1-py2.py3-none-any.whl (186 kB)\n",
      "   ---------------------------------------- 0.0/186.9 kB ? eta -:--:--\n",
      "   --------------------------------------- 186.9/186.9 kB 11.0 MB/s eta 0:00:00\n",
      "Downloading google_auth_oauthlib-1.2.0-py2.py3-none-any.whl (24 kB)\n",
      "Downloading Markdown-3.5.2-py3-none-any.whl (103 kB)\n",
      "   ---------------------------------------- 0.0/103.9 kB ? eta -:--:--\n",
      "   ---------------------------------------- 103.9/103.9 kB ? eta 0:00:00\n",
      "Downloading tensorboard_data_server-0.7.2-py3-none-any.whl (2.4 kB)\n",
      "Downloading pyasn1_modules-0.3.0-py2.py3-none-any.whl (181 kB)\n",
      "   ---------------------------------------- 0.0/181.3 kB ? eta -:--:--\n",
      "   ---------------------------------------- 181.3/181.3 kB ? eta 0:00:00\n",
      "Downloading rsa-4.9-py3-none-any.whl (34 kB)\n",
      "Downloading oauthlib-3.2.2-py3-none-any.whl (151 kB)\n",
      "   ---------------------------------------- 0.0/151.7 kB ? eta -:--:--\n",
      "   ---------------------------------------- 151.7/151.7 kB ? eta 0:00:00\n",
      "Downloading pyasn1-0.5.1-py2.py3-none-any.whl (84 kB)\n",
      "   ---------------------------------------- 0.0/84.9 kB ? eta -:--:--\n",
      "   ---------------------------------------- 84.9/84.9 kB ? eta 0:00:00\n",
      "Installing collected packages: libclang, flatbuffers, wrapt, termcolor, tensorflow-io-gcs-filesystem, tensorflow-estimator, tensorboard-data-server, pyasn1, opt-einsum, oauthlib, ml-dtypes, markdown, keras, h5py, grpcio, google-pasta, gast, astunparse, absl-py, rsa, requests-oauthlib, pyasn1-modules, google-auth, google-auth-oauthlib, tensorboard, tensorflow-intel, tensorflow\n",
      "Successfully installed absl-py-2.1.0 astunparse-1.6.3 flatbuffers-23.5.26 gast-0.5.4 google-auth-2.28.1 google-auth-oauthlib-1.2.0 google-pasta-0.2.0 grpcio-1.62.0 h5py-3.10.0 keras-2.15.0 libclang-16.0.6 markdown-3.5.2 ml-dtypes-0.2.0 oauthlib-3.2.2 opt-einsum-3.3.0 pyasn1-0.5.1 pyasn1-modules-0.3.0 requests-oauthlib-1.3.1 rsa-4.9 tensorboard-2.15.2 tensorboard-data-server-0.7.2 tensorflow-2.15.0 tensorflow-estimator-2.15.0 tensorflow-intel-2.15.0 tensorflow-io-gcs-filesystem-0.31.0 termcolor-2.4.0 wrapt-1.14.1\n"
     ]
    }
   ],
   "source": [
    "#!pip install tensorflow"
   ]
  },
  {
   "cell_type": "code",
   "execution_count": 6,
   "id": "a250cd21",
   "metadata": {},
   "outputs": [
    {
     "name": "stdout",
     "output_type": "stream",
     "text": [
      "Downloading data from https://storage.googleapis.com/tensorflow/tf-keras-datasets/mnist.npz\n",
      "11490434/11490434 [==============================] - 2s 0us/step\n"
     ]
    }
   ],
   "source": [
    "(X_train, y_train), (X_test, y_test) = keras.datasets.mnist.load_data()"
   ]
  },
  {
   "cell_type": "code",
   "execution_count": 7,
   "id": "5d89d452",
   "metadata": {},
   "outputs": [
    {
     "data": {
      "text/plain": [
       "60000"
      ]
     },
     "execution_count": 7,
     "metadata": {},
     "output_type": "execute_result"
    }
   ],
   "source": [
    "len(X_train)"
   ]
  },
  {
   "cell_type": "code",
   "execution_count": 8,
   "id": "32da00aa",
   "metadata": {},
   "outputs": [
    {
     "data": {
      "text/plain": [
       "10000"
      ]
     },
     "execution_count": 8,
     "metadata": {},
     "output_type": "execute_result"
    }
   ],
   "source": [
    "len(X_test)"
   ]
  },
  {
   "cell_type": "code",
   "execution_count": 9,
   "id": "95fec199",
   "metadata": {},
   "outputs": [
    {
     "data": {
      "text/plain": [
       "(28, 28)"
      ]
     },
     "execution_count": 9,
     "metadata": {},
     "output_type": "execute_result"
    }
   ],
   "source": [
    "X_train[0].shape"
   ]
  },
  {
   "cell_type": "code",
   "execution_count": 10,
   "id": "ff6fde89",
   "metadata": {},
   "outputs": [
    {
     "data": {
      "text/plain": [
       "array([[  0,   0,   0,   0,   0,   0,   0,   0,   0,   0,   0,   0,   0,\n",
       "          0,   0,   0,   0,   0,   0,   0,   0,   0,   0,   0,   0,   0,\n",
       "          0,   0],\n",
       "       [  0,   0,   0,   0,   0,   0,   0,   0,   0,   0,   0,   0,   0,\n",
       "          0,   0,   0,   0,   0,   0,   0,   0,   0,   0,   0,   0,   0,\n",
       "          0,   0],\n",
       "       [  0,   0,   0,   0,   0,   0,   0,   0,   0,   0,   0,   0,   0,\n",
       "          0,   0,   0,   0,   0,   0,   0,   0,   0,   0,   0,   0,   0,\n",
       "          0,   0],\n",
       "       [  0,   0,   0,   0,   0,   0,   0,   0,   0,   0,   0,   0,   0,\n",
       "          0,   0,   0,   0,   0,   0,   0,   0,   0,   0,   0,   0,   0,\n",
       "          0,   0],\n",
       "       [  0,   0,   0,   0,   0,   0,   0,   0,   0,   0,   0,   0,   0,\n",
       "          0,   0,   0,   0,   0,   0,   0,   0,   0,   0,   0,   0,   0,\n",
       "          0,   0],\n",
       "       [  0,   0,   0,   0,   0,   0,   0,   0,   0,   0,   0,   0,   3,\n",
       "         18,  18,  18, 126, 136, 175,  26, 166, 255, 247, 127,   0,   0,\n",
       "          0,   0],\n",
       "       [  0,   0,   0,   0,   0,   0,   0,   0,  30,  36,  94, 154, 170,\n",
       "        253, 253, 253, 253, 253, 225, 172, 253, 242, 195,  64,   0,   0,\n",
       "          0,   0],\n",
       "       [  0,   0,   0,   0,   0,   0,   0,  49, 238, 253, 253, 253, 253,\n",
       "        253, 253, 253, 253, 251,  93,  82,  82,  56,  39,   0,   0,   0,\n",
       "          0,   0],\n",
       "       [  0,   0,   0,   0,   0,   0,   0,  18, 219, 253, 253, 253, 253,\n",
       "        253, 198, 182, 247, 241,   0,   0,   0,   0,   0,   0,   0,   0,\n",
       "          0,   0],\n",
       "       [  0,   0,   0,   0,   0,   0,   0,   0,  80, 156, 107, 253, 253,\n",
       "        205,  11,   0,  43, 154,   0,   0,   0,   0,   0,   0,   0,   0,\n",
       "          0,   0],\n",
       "       [  0,   0,   0,   0,   0,   0,   0,   0,   0,  14,   1, 154, 253,\n",
       "         90,   0,   0,   0,   0,   0,   0,   0,   0,   0,   0,   0,   0,\n",
       "          0,   0],\n",
       "       [  0,   0,   0,   0,   0,   0,   0,   0,   0,   0,   0, 139, 253,\n",
       "        190,   2,   0,   0,   0,   0,   0,   0,   0,   0,   0,   0,   0,\n",
       "          0,   0],\n",
       "       [  0,   0,   0,   0,   0,   0,   0,   0,   0,   0,   0,  11, 190,\n",
       "        253,  70,   0,   0,   0,   0,   0,   0,   0,   0,   0,   0,   0,\n",
       "          0,   0],\n",
       "       [  0,   0,   0,   0,   0,   0,   0,   0,   0,   0,   0,   0,  35,\n",
       "        241, 225, 160, 108,   1,   0,   0,   0,   0,   0,   0,   0,   0,\n",
       "          0,   0],\n",
       "       [  0,   0,   0,   0,   0,   0,   0,   0,   0,   0,   0,   0,   0,\n",
       "         81, 240, 253, 253, 119,  25,   0,   0,   0,   0,   0,   0,   0,\n",
       "          0,   0],\n",
       "       [  0,   0,   0,   0,   0,   0,   0,   0,   0,   0,   0,   0,   0,\n",
       "          0,  45, 186, 253, 253, 150,  27,   0,   0,   0,   0,   0,   0,\n",
       "          0,   0],\n",
       "       [  0,   0,   0,   0,   0,   0,   0,   0,   0,   0,   0,   0,   0,\n",
       "          0,   0,  16,  93, 252, 253, 187,   0,   0,   0,   0,   0,   0,\n",
       "          0,   0],\n",
       "       [  0,   0,   0,   0,   0,   0,   0,   0,   0,   0,   0,   0,   0,\n",
       "          0,   0,   0,   0, 249, 253, 249,  64,   0,   0,   0,   0,   0,\n",
       "          0,   0],\n",
       "       [  0,   0,   0,   0,   0,   0,   0,   0,   0,   0,   0,   0,   0,\n",
       "          0,  46, 130, 183, 253, 253, 207,   2,   0,   0,   0,   0,   0,\n",
       "          0,   0],\n",
       "       [  0,   0,   0,   0,   0,   0,   0,   0,   0,   0,   0,   0,  39,\n",
       "        148, 229, 253, 253, 253, 250, 182,   0,   0,   0,   0,   0,   0,\n",
       "          0,   0],\n",
       "       [  0,   0,   0,   0,   0,   0,   0,   0,   0,   0,  24, 114, 221,\n",
       "        253, 253, 253, 253, 201,  78,   0,   0,   0,   0,   0,   0,   0,\n",
       "          0,   0],\n",
       "       [  0,   0,   0,   0,   0,   0,   0,   0,  23,  66, 213, 253, 253,\n",
       "        253, 253, 198,  81,   2,   0,   0,   0,   0,   0,   0,   0,   0,\n",
       "          0,   0],\n",
       "       [  0,   0,   0,   0,   0,   0,  18, 171, 219, 253, 253, 253, 253,\n",
       "        195,  80,   9,   0,   0,   0,   0,   0,   0,   0,   0,   0,   0,\n",
       "          0,   0],\n",
       "       [  0,   0,   0,   0,  55, 172, 226, 253, 253, 253, 253, 244, 133,\n",
       "         11,   0,   0,   0,   0,   0,   0,   0,   0,   0,   0,   0,   0,\n",
       "          0,   0],\n",
       "       [  0,   0,   0,   0, 136, 253, 253, 253, 212, 135, 132,  16,   0,\n",
       "          0,   0,   0,   0,   0,   0,   0,   0,   0,   0,   0,   0,   0,\n",
       "          0,   0],\n",
       "       [  0,   0,   0,   0,   0,   0,   0,   0,   0,   0,   0,   0,   0,\n",
       "          0,   0,   0,   0,   0,   0,   0,   0,   0,   0,   0,   0,   0,\n",
       "          0,   0],\n",
       "       [  0,   0,   0,   0,   0,   0,   0,   0,   0,   0,   0,   0,   0,\n",
       "          0,   0,   0,   0,   0,   0,   0,   0,   0,   0,   0,   0,   0,\n",
       "          0,   0],\n",
       "       [  0,   0,   0,   0,   0,   0,   0,   0,   0,   0,   0,   0,   0,\n",
       "          0,   0,   0,   0,   0,   0,   0,   0,   0,   0,   0,   0,   0,\n",
       "          0,   0]], dtype=uint8)"
      ]
     },
     "execution_count": 10,
     "metadata": {},
     "output_type": "execute_result"
    }
   ],
   "source": [
    "X_train[0]"
   ]
  },
  {
   "cell_type": "code",
   "execution_count": 11,
   "id": "07267cb2",
   "metadata": {},
   "outputs": [
    {
     "data": {
      "text/plain": [
       "<matplotlib.image.AxesImage at 0x16d3662d3d0>"
      ]
     },
     "execution_count": 11,
     "metadata": {},
     "output_type": "execute_result"
    },
    {
     "data": {
      "image/png": "[encoded data removed]",
      "text/plain": [
       "<Figure size 480x480 with 1 Axes>"
      ]
     },
     "metadata": {},
     "output_type": "display_data"
    }
   ],
   "source": [
    "plt.matshow(X_train[0])"
   ]
  },
  {
   "cell_type": "code",
   "execution_count": 12,
   "id": "e60944c6",
   "metadata": {},
   "outputs": [
    {
     "data": {
      "text/plain": [
       "5"
      ]
     },
     "execution_count": 12,
     "metadata": {},
     "output_type": "execute_result"
    }
   ],
   "source": [
    "y_train[0]"
   ]
  },
  {
   "cell_type": "code",
   "execution_count": 13,
   "id": "653b29fe",
   "metadata": {},
   "outputs": [],
   "source": [
    "X_train = X_train/255\n",
    "X_test = X_test / 255"
   ]
  },
  {
   "cell_type": "code",
   "execution_count": 14,
   "id": "8c8c43d5",
   "metadata": {},
   "outputs": [
    {
     "data": {
      "text/plain": [
       "array([[0.        , 0.        , 0.        , 0.        , 0.        ,\n",
       "        0.        , 0.        , 0.        , 0.        , 0.        ,\n",
       "        0.        , 0.        , 0.        , 0.        , 0.        ,\n",
       "        0.        , 0.        , 0.        , 0.        , 0.        ,\n",
       "        0.        , 0.        , 0.        , 0.        , 0.        ,\n",
       "        0.        , 0.        , 0.        ],\n",
       "       [0.        , 0.        , 0.        , 0.        , 0.        ,\n",
       "        0.        , 0.        , 0.        , 0.        , 0.        ,\n",
       "        0.        , 0.        , 0.        , 0.        , 0.        ,\n",
       "        0.        , 0.        , 0.        , 0.        , 0.        ,\n",
       "        0.        , 0.        , 0.        , 0.        , 0.        ,\n",
       "        0.        , 0.        , 0.        ],\n",
       "       [0.        , 0.        , 0.        , 0.        , 0.        ,\n",
       "        0.        , 0.        , 0.        , 0.        , 0.        ,\n",
       "        0.        , 0.        , 0.        , 0.        , 0.        ,\n",
       "        0.        , 0.        , 0.        , 0.        , 0.        ,\n",
       "        0.        , 0.        , 0.        , 0.        , 0.        ,\n",
       "        0.        , 0.        , 0.        ],\n",
       "       [0.        , 0.        , 0.        , 0.        , 0.        ,\n",
       "        0.        , 0.        , 0.        , 0.        , 0.        ,\n",
       "        0.        , 0.        , 0.        , 0.        , 0.        ,\n",
       "        0.        , 0.        , 0.        , 0.        , 0.        ,\n",
       "        0.        , 0.        , 0.        , 0.        , 0.        ,\n",
       "        0.        , 0.        , 0.        ],\n",
       "       [0.        , 0.        , 0.        , 0.        , 0.        ,\n",
       "        0.        , 0.        , 0.        , 0.        , 0.        ,\n",
       "        0.        , 0.        , 0.        , 0.        , 0.        ,\n",
       "        0.        , 0.        , 0.        , 0.        , 0.        ,\n",
       "        0.        , 0.        , 0.        , 0.        , 0.        ,\n",
       "        0.        , 0.        , 0.        ],\n",
       "       [0.        , 0.        , 0.        , 0.        , 0.        ,\n",
       "        0.        , 0.        , 0.        , 0.        , 0.        ,\n",
       "        0.        , 0.        , 0.01176471, 0.07058824, 0.07058824,\n",
       "        0.07058824, 0.49411765, 0.53333333, 0.68627451, 0.10196078,\n",
       "        0.65098039, 1.        , 0.96862745, 0.49803922, 0.        ,\n",
       "        0.        , 0.        , 0.        ],\n",
       "       [0.        , 0.        , 0.        , 0.        , 0.        ,\n",
       "        0.        , 0.        , 0.        , 0.11764706, 0.14117647,\n",
       "        0.36862745, 0.60392157, 0.66666667, 0.99215686, 0.99215686,\n",
       "        0.99215686, 0.99215686, 0.99215686, 0.88235294, 0.6745098 ,\n",
       "        0.99215686, 0.94901961, 0.76470588, 0.25098039, 0.        ,\n",
       "        0.        , 0.        , 0.        ],\n",
       "       [0.        , 0.        , 0.        , 0.        , 0.        ,\n",
       "        0.        , 0.        , 0.19215686, 0.93333333, 0.99215686,\n",
       "        0.99215686, 0.99215686, 0.99215686, 0.99215686, 0.99215686,\n",
       "        0.99215686, 0.99215686, 0.98431373, 0.36470588, 0.32156863,\n",
       "        0.32156863, 0.21960784, 0.15294118, 0.        , 0.        ,\n",
       "        0.        , 0.        , 0.        ],\n",
       "       [0.        , 0.        , 0.        , 0.        , 0.        ,\n",
       "        0.        , 0.        , 0.07058824, 0.85882353, 0.99215686,\n",
       "        0.99215686, 0.99215686, 0.99215686, 0.99215686, 0.77647059,\n",
       "        0.71372549, 0.96862745, 0.94509804, 0.        , 0.        ,\n",
       "        0.        , 0.        , 0.        , 0.        , 0.        ,\n",
       "        0.        , 0.        , 0.        ],\n",
       "       [0.        , 0.        , 0.        , 0.        , 0.        ,\n",
       "        0.        , 0.        , 0.        , 0.31372549, 0.61176471,\n",
       "        0.41960784, 0.99215686, 0.99215686, 0.80392157, 0.04313725,\n",
       "        0.        , 0.16862745, 0.60392157, 0.        , 0.        ,\n",
       "        0.        , 0.        , 0.        , 0.        , 0.        ,\n",
       "        0.        , 0.        , 0.        ],\n",
       "       [0.        , 0.        , 0.        , 0.        , 0.        ,\n",
       "        0.        , 0.        , 0.        , 0.        , 0.05490196,\n",
       "        0.00392157, 0.60392157, 0.99215686, 0.35294118, 0.        ,\n",
       "        0.        , 0.        , 0.        , 0.        , 0.        ,\n",
       "        0.        , 0.        , 0.        , 0.        , 0.        ,\n",
       "        0.        , 0.        , 0.        ],\n",
       "       [0.        , 0.        , 0.        , 0.        , 0.        ,\n",
       "        0.        , 0.        , 0.        , 0.        , 0.        ,\n",
       "        0.        , 0.54509804, 0.99215686, 0.74509804, 0.00784314,\n",
       "        0.        , 0.        , 0.        , 0.        , 0.        ,\n",
       "        0.        , 0.        , 0.        , 0.        , 0.        ,\n",
       "        0.        , 0.        , 0.        ],\n",
       "       [0.        , 0.        , 0.        , 0.        , 0.        ,\n",
       "        0.        , 0.        , 0.        , 0.        , 0.        ,\n",
       "        0.        , 0.04313725, 0.74509804, 0.99215686, 0.2745098 ,\n",
       "        0.        , 0.        , 0.        , 0.        , 0.        ,\n",
       "        0.        , 0.        , 0.        , 0.        , 0.        ,\n",
       "        0.        , 0.        , 0.        ],\n",
       "       [0.        , 0.        , 0.        , 0.        , 0.        ,\n",
       "        0.        , 0.        , 0.        , 0.        , 0.        ,\n",
       "        0.        , 0.        , 0.1372549 , 0.94509804, 0.88235294,\n",
       "        0.62745098, 0.42352941, 0.00392157, 0.        , 0.        ,\n",
       "        0.        , 0.        , 0.        , 0.        , 0.        ,\n",
       "        0.        , 0.        , 0.        ],\n",
       "       [0.        , 0.        , 0.        , 0.        , 0.        ,\n",
       "        0.        , 0.        , 0.        , 0.        , 0.        ,\n",
       "        0.        , 0.        , 0.        , 0.31764706, 0.94117647,\n",
       "        0.99215686, 0.99215686, 0.46666667, 0.09803922, 0.        ,\n",
       "        0.        , 0.        , 0.        , 0.        , 0.        ,\n",
       "        0.        , 0.        , 0.        ],\n",
       "       [0.        , 0.        , 0.        , 0.        , 0.        ,\n",
       "        0.        , 0.        , 0.        , 0.        , 0.        ,\n",
       "        0.        , 0.        , 0.        , 0.        , 0.17647059,\n",
       "        0.72941176, 0.99215686, 0.99215686, 0.58823529, 0.10588235,\n",
       "        0.        , 0.        , 0.        , 0.        , 0.        ,\n",
       "        0.        , 0.        , 0.        ],\n",
       "       [0.        , 0.        , 0.        , 0.        , 0.        ,\n",
       "        0.        , 0.        , 0.        , 0.        , 0.        ,\n",
       "        0.        , 0.        , 0.        , 0.        , 0.        ,\n",
       "        0.0627451 , 0.36470588, 0.98823529, 0.99215686, 0.73333333,\n",
       "        0.        , 0.        , 0.        , 0.        , 0.        ,\n",
       "        0.        , 0.        , 0.        ],\n",
       "       [0.        , 0.        , 0.        , 0.        , 0.        ,\n",
       "        0.        , 0.        , 0.        , 0.        , 0.        ,\n",
       "        0.        , 0.        , 0.        , 0.        , 0.        ,\n",
       "        0.        , 0.        , 0.97647059, 0.99215686, 0.97647059,\n",
       "        0.25098039, 0.        , 0.        , 0.        , 0.        ,\n",
       "        0.        , 0.        , 0.        ],\n",
       "       [0.        , 0.        , 0.        , 0.        , 0.        ,\n",
       "        0.        , 0.        , 0.        , 0.        , 0.        ,\n",
       "        0.        , 0.        , 0.        , 0.        , 0.18039216,\n",
       "        0.50980392, 0.71764706, 0.99215686, 0.99215686, 0.81176471,\n",
       "        0.00784314, 0.        , 0.        , 0.        , 0.        ,\n",
       "        0.        , 0.        , 0.        ],\n",
       "       [0.        , 0.        , 0.        , 0.        , 0.        ,\n",
       "        0.        , 0.        , 0.        , 0.        , 0.        ,\n",
       "        0.        , 0.        , 0.15294118, 0.58039216, 0.89803922,\n",
       "        0.99215686, 0.99215686, 0.99215686, 0.98039216, 0.71372549,\n",
       "        0.        , 0.        , 0.        , 0.        , 0.        ,\n",
       "        0.        , 0.        , 0.        ],\n",
       "       [0.        , 0.        , 0.        , 0.        , 0.        ,\n",
       "        0.        , 0.        , 0.        , 0.        , 0.        ,\n",
       "        0.09411765, 0.44705882, 0.86666667, 0.99215686, 0.99215686,\n",
       "        0.99215686, 0.99215686, 0.78823529, 0.30588235, 0.        ,\n",
       "        0.        , 0.        , 0.        , 0.        , 0.        ,\n",
       "        0.        , 0.        , 0.        ],\n",
       "       [0.        , 0.        , 0.        , 0.        , 0.        ,\n",
       "        0.        , 0.        , 0.        , 0.09019608, 0.25882353,\n",
       "        0.83529412, 0.99215686, 0.99215686, 0.99215686, 0.99215686,\n",
       "        0.77647059, 0.31764706, 0.00784314, 0.        , 0.        ,\n",
       "        0.        , 0.        , 0.        , 0.        , 0.        ,\n",
       "        0.        , 0.        , 0.        ],\n",
       "       [0.        , 0.        , 0.        , 0.        , 0.        ,\n",
       "        0.        , 0.07058824, 0.67058824, 0.85882353, 0.99215686,\n",
       "        0.99215686, 0.99215686, 0.99215686, 0.76470588, 0.31372549,\n",
       "        0.03529412, 0.        , 0.        , 0.        , 0.        ,\n",
       "        0.        , 0.        , 0.        , 0.        , 0.        ,\n",
       "        0.        , 0.        , 0.        ],\n",
       "       [0.        , 0.        , 0.        , 0.        , 0.21568627,\n",
       "        0.6745098 , 0.88627451, 0.99215686, 0.99215686, 0.99215686,\n",
       "        0.99215686, 0.95686275, 0.52156863, 0.04313725, 0.        ,\n",
       "        0.        , 0.        , 0.        , 0.        , 0.        ,\n",
       "        0.        , 0.        , 0.        , 0.        , 0.        ,\n",
       "        0.        , 0.        , 0.        ],\n",
       "       [0.        , 0.        , 0.        , 0.        , 0.53333333,\n",
       "        0.99215686, 0.99215686, 0.99215686, 0.83137255, 0.52941176,\n",
       "        0.51764706, 0.0627451 , 0.        , 0.        , 0.        ,\n",
       "        0.        , 0.        , 0.        , 0.        , 0.        ,\n",
       "        0.        , 0.        , 0.        , 0.        , 0.        ,\n",
       "        0.        , 0.        , 0.        ],\n",
       "       [0.        , 0.        , 0.        , 0.        , 0.        ,\n",
       "        0.        , 0.        , 0.        , 0.        , 0.        ,\n",
       "        0.        , 0.        , 0.        , 0.        , 0.        ,\n",
       "        0.        , 0.        , 0.        , 0.        , 0.        ,\n",
       "        0.        , 0.        , 0.        , 0.        , 0.        ,\n",
       "        0.        , 0.        , 0.        ],\n",
       "       [0.        , 0.        , 0.        , 0.        , 0.        ,\n",
       "        0.        , 0.        , 0.        , 0.        , 0.        ,\n",
       "        0.        , 0.        , 0.        , 0.        , 0.        ,\n",
       "        0.        , 0.        , 0.        , 0.        , 0.        ,\n",
       "        0.        , 0.        , 0.        , 0.        , 0.        ,\n",
       "        0.        , 0.        , 0.        ],\n",
       "       [0.        , 0.        , 0.        , 0.        , 0.        ,\n",
       "        0.        , 0.        , 0.        , 0.        , 0.        ,\n",
       "        0.        , 0.        , 0.        , 0.        , 0.        ,\n",
       "        0.        , 0.        , 0.        , 0.        , 0.        ,\n",
       "        0.        , 0.        , 0.        , 0.        , 0.        ,\n",
       "        0.        , 0.        , 0.        ]])"
      ]
     },
     "execution_count": 14,
     "metadata": {},
     "output_type": "execute_result"
    }
   ],
   "source": [
    "X_train[0]"
   ]
  },
  {
   "cell_type": "code",
   "execution_count": 18,
   "id": "d2dcf6ae",
   "metadata": {},
   "outputs": [],
   "source": [
    "X_train_flattened = X_train.reshape(len(X_train), 28*28)\n",
    "X_test_flattened = X_test.reshape(len(X_test), 28*28)"
   ]
  },
  {
   "cell_type": "code",
   "execution_count": 19,
   "id": "539d20c7",
   "metadata": {},
   "outputs": [
    {
     "data": {
      "text/plain": [
       "(60000, 28, 28)"
      ]
     },
     "execution_count": 19,
     "metadata": {},
     "output_type": "execute_result"
    }
   ],
   "source": [
    "X_train.shape"
   ]
  },
  {
   "cell_type": "code",
   "execution_count": 20,
   "id": "06b7a759",
   "metadata": {},
   "outputs": [
    {
     "data": {
      "text/plain": [
       "array([0.        , 0.        , 0.        , 0.        , 0.        ,\n",
       "       0.        , 0.        , 0.        , 0.        , 0.        ,\n",
       "       0.        , 0.        , 0.        , 0.        , 0.        ,\n",
       "       0.        , 0.        , 0.        , 0.        , 0.        ,\n",
       "       0.        , 0.        , 0.        , 0.        , 0.        ,\n",
       "       0.        , 0.        , 0.        , 0.        , 0.        ,\n",
       "       0.        , 0.        , 0.        , 0.        , 0.        ,\n",
       "       0.        , 0.        , 0.        , 0.        , 0.        ,\n",
       "       0.        , 0.        , 0.        , 0.        , 0.        ,\n",
       "       0.        , 0.        , 0.        , 0.        , 0.        ,\n",
       "       0.        , 0.        , 0.        , 0.        , 0.        ,\n",
       "       0.        , 0.        , 0.        , 0.        , 0.        ,\n",
       "       0.        , 0.        , 0.        , 0.        , 0.        ,\n",
       "       0.        , 0.        , 0.        , 0.        , 0.        ,\n",
       "       0.        , 0.        , 0.        , 0.        , 0.        ,\n",
       "       0.        , 0.        , 0.        , 0.        , 0.        ,\n",
       "       0.        , 0.        , 0.        , 0.        , 0.        ,\n",
       "       0.        , 0.        , 0.        , 0.        , 0.        ,\n",
       "       0.        , 0.        , 0.        , 0.        , 0.        ,\n",
       "       0.        , 0.        , 0.        , 0.        , 0.        ,\n",
       "       0.        , 0.        , 0.        , 0.        , 0.        ,\n",
       "       0.        , 0.        , 0.        , 0.        , 0.        ,\n",
       "       0.        , 0.        , 0.        , 0.        , 0.        ,\n",
       "       0.        , 0.        , 0.        , 0.        , 0.        ,\n",
       "       0.        , 0.        , 0.        , 0.        , 0.        ,\n",
       "       0.        , 0.        , 0.        , 0.        , 0.        ,\n",
       "       0.        , 0.        , 0.        , 0.        , 0.        ,\n",
       "       0.        , 0.        , 0.        , 0.        , 0.        ,\n",
       "       0.        , 0.        , 0.        , 0.        , 0.        ,\n",
       "       0.        , 0.        , 0.        , 0.        , 0.        ,\n",
       "       0.        , 0.        , 0.01176471, 0.07058824, 0.07058824,\n",
       "       0.07058824, 0.49411765, 0.53333333, 0.68627451, 0.10196078,\n",
       "       0.65098039, 1.        , 0.96862745, 0.49803922, 0.        ,\n",
       "       0.        , 0.        , 0.        , 0.        , 0.        ,\n",
       "       0.        , 0.        , 0.        , 0.        , 0.        ,\n",
       "       0.        , 0.11764706, 0.14117647, 0.36862745, 0.60392157,\n",
       "       0.66666667, 0.99215686, 0.99215686, 0.99215686, 0.99215686,\n",
       "       0.99215686, 0.88235294, 0.6745098 , 0.99215686, 0.94901961,\n",
       "       0.76470588, 0.25098039, 0.        , 0.        , 0.        ,\n",
       "       0.        , 0.        , 0.        , 0.        , 0.        ,\n",
       "       0.        , 0.        , 0.        , 0.19215686, 0.93333333,\n",
       "       0.99215686, 0.99215686, 0.99215686, 0.99215686, 0.99215686,\n",
       "       0.99215686, 0.99215686, 0.99215686, 0.98431373, 0.36470588,\n",
       "       0.32156863, 0.32156863, 0.21960784, 0.15294118, 0.        ,\n",
       "       0.        , 0.        , 0.        , 0.        , 0.        ,\n",
       "       0.        , 0.        , 0.        , 0.        , 0.        ,\n",
       "       0.        , 0.07058824, 0.85882353, 0.99215686, 0.99215686,\n",
       "       0.99215686, 0.99215686, 0.99215686, 0.77647059, 0.71372549,\n",
       "       0.96862745, 0.94509804, 0.        , 0.        , 0.        ,\n",
       "       0.        , 0.        , 0.        , 0.        , 0.        ,\n",
       "       0.        , 0.        , 0.        , 0.        , 0.        ,\n",
       "       0.        , 0.        , 0.        , 0.        , 0.        ,\n",
       "       0.31372549, 0.61176471, 0.41960784, 0.99215686, 0.99215686,\n",
       "       0.80392157, 0.04313725, 0.        , 0.16862745, 0.60392157,\n",
       "       0.        , 0.        , 0.        , 0.        , 0.        ,\n",
       "       0.        , 0.        , 0.        , 0.        , 0.        ,\n",
       "       0.        , 0.        , 0.        , 0.        , 0.        ,\n",
       "       0.        , 0.        , 0.        , 0.        , 0.05490196,\n",
       "       0.00392157, 0.60392157, 0.99215686, 0.35294118, 0.        ,\n",
       "       0.        , 0.        , 0.        , 0.        , 0.        ,\n",
       "       0.        , 0.        , 0.        , 0.        , 0.        ,\n",
       "       0.        , 0.        , 0.        , 0.        , 0.        ,\n",
       "       0.        , 0.        , 0.        , 0.        , 0.        ,\n",
       "       0.        , 0.        , 0.        , 0.        , 0.54509804,\n",
       "       0.99215686, 0.74509804, 0.00784314, 0.        , 0.        ,\n",
       "       0.        , 0.        , 0.        , 0.        , 0.        ,\n",
       "       0.        , 0.        , 0.        , 0.        , 0.        ,\n",
       "       0.        , 0.        , 0.        , 0.        , 0.        ,\n",
       "       0.        , 0.        , 0.        , 0.        , 0.        ,\n",
       "       0.        , 0.        , 0.04313725, 0.74509804, 0.99215686,\n",
       "       0.2745098 , 0.        , 0.        , 0.        , 0.        ,\n",
       "       0.        , 0.        , 0.        , 0.        , 0.        ,\n",
       "       0.        , 0.        , 0.        , 0.        , 0.        ,\n",
       "       0.        , 0.        , 0.        , 0.        , 0.        ,\n",
       "       0.        , 0.        , 0.        , 0.        , 0.        ,\n",
       "       0.        , 0.1372549 , 0.94509804, 0.88235294, 0.62745098,\n",
       "       0.42352941, 0.00392157, 0.        , 0.        , 0.        ,\n",
       "       0.        , 0.        , 0.        , 0.        , 0.        ,\n",
       "       0.        , 0.        , 0.        , 0.        , 0.        ,\n",
       "       0.        , 0.        , 0.        , 0.        , 0.        ,\n",
       "       0.        , 0.        , 0.        , 0.        , 0.        ,\n",
       "       0.31764706, 0.94117647, 0.99215686, 0.99215686, 0.46666667,\n",
       "       0.09803922, 0.        , 0.        , 0.        , 0.        ,\n",
       "       0.        , 0.        , 0.        , 0.        , 0.        ,\n",
       "       0.        , 0.        , 0.        , 0.        , 0.        ,\n",
       "       0.        , 0.        , 0.        , 0.        , 0.        ,\n",
       "       0.        , 0.        , 0.        , 0.        , 0.17647059,\n",
       "       0.72941176, 0.99215686, 0.99215686, 0.58823529, 0.10588235,\n",
       "       0.        , 0.        , 0.        , 0.        , 0.        ,\n",
       "       0.        , 0.        , 0.        , 0.        , 0.        ,\n",
       "       0.        , 0.        , 0.        , 0.        , 0.        ,\n",
       "       0.        , 0.        , 0.        , 0.        , 0.        ,\n",
       "       0.        , 0.        , 0.        , 0.0627451 , 0.36470588,\n",
       "       0.98823529, 0.99215686, 0.73333333, 0.        , 0.        ,\n",
       "       0.        , 0.        , 0.        , 0.        , 0.        ,\n",
       "       0.        , 0.        , 0.        , 0.        , 0.        ,\n",
       "       0.        , 0.        , 0.        , 0.        , 0.        ,\n",
       "       0.        , 0.        , 0.        , 0.        , 0.        ,\n",
       "       0.        , 0.        , 0.        , 0.97647059, 0.99215686,\n",
       "       0.97647059, 0.25098039, 0.        , 0.        , 0.        ,\n",
       "       0.        , 0.        , 0.        , 0.        , 0.        ,\n",
       "       0.        , 0.        , 0.        , 0.        , 0.        ,\n",
       "       0.        , 0.        , 0.        , 0.        , 0.        ,\n",
       "       0.        , 0.        , 0.        , 0.18039216, 0.50980392,\n",
       "       0.71764706, 0.99215686, 0.99215686, 0.81176471, 0.00784314,\n",
       "       0.        , 0.        , 0.        , 0.        , 0.        ,\n",
       "       0.        , 0.        , 0.        , 0.        , 0.        ,\n",
       "       0.        , 0.        , 0.        , 0.        , 0.        ,\n",
       "       0.        , 0.        , 0.        , 0.        , 0.15294118,\n",
       "       0.58039216, 0.89803922, 0.99215686, 0.99215686, 0.99215686,\n",
       "       0.98039216, 0.71372549, 0.        , 0.        , 0.        ,\n",
       "       0.        , 0.        , 0.        , 0.        , 0.        ,\n",
       "       0.        , 0.        , 0.        , 0.        , 0.        ,\n",
       "       0.        , 0.        , 0.        , 0.        , 0.        ,\n",
       "       0.09411765, 0.44705882, 0.86666667, 0.99215686, 0.99215686,\n",
       "       0.99215686, 0.99215686, 0.78823529, 0.30588235, 0.        ,\n",
       "       0.        , 0.        , 0.        , 0.        , 0.        ,\n",
       "       0.        , 0.        , 0.        , 0.        , 0.        ,\n",
       "       0.        , 0.        , 0.        , 0.        , 0.        ,\n",
       "       0.        , 0.09019608, 0.25882353, 0.83529412, 0.99215686,\n",
       "       0.99215686, 0.99215686, 0.99215686, 0.77647059, 0.31764706,\n",
       "       0.00784314, 0.        , 0.        , 0.        , 0.        ,\n",
       "       0.        , 0.        , 0.        , 0.        , 0.        ,\n",
       "       0.        , 0.        , 0.        , 0.        , 0.        ,\n",
       "       0.        , 0.        , 0.07058824, 0.67058824, 0.85882353,\n",
       "       0.99215686, 0.99215686, 0.99215686, 0.99215686, 0.76470588,\n",
       "       0.31372549, 0.03529412, 0.        , 0.        , 0.        ,\n",
       "       0.        , 0.        , 0.        , 0.        , 0.        ,\n",
       "       0.        , 0.        , 0.        , 0.        , 0.        ,\n",
       "       0.        , 0.        , 0.        , 0.21568627, 0.6745098 ,\n",
       "       0.88627451, 0.99215686, 0.99215686, 0.99215686, 0.99215686,\n",
       "       0.95686275, 0.52156863, 0.04313725, 0.        , 0.        ,\n",
       "       0.        , 0.        , 0.        , 0.        , 0.        ,\n",
       "       0.        , 0.        , 0.        , 0.        , 0.        ,\n",
       "       0.        , 0.        , 0.        , 0.        , 0.        ,\n",
       "       0.        , 0.53333333, 0.99215686, 0.99215686, 0.99215686,\n",
       "       0.83137255, 0.52941176, 0.51764706, 0.0627451 , 0.        ,\n",
       "       0.        , 0.        , 0.        , 0.        , 0.        ,\n",
       "       0.        , 0.        , 0.        , 0.        , 0.        ,\n",
       "       0.        , 0.        , 0.        , 0.        , 0.        ,\n",
       "       0.        , 0.        , 0.        , 0.        , 0.        ,\n",
       "       0.        , 0.        , 0.        , 0.        , 0.        ,\n",
       "       0.        , 0.        , 0.        , 0.        , 0.        ,\n",
       "       0.        , 0.        , 0.        , 0.        , 0.        ,\n",
       "       0.        , 0.        , 0.        , 0.        , 0.        ,\n",
       "       0.        , 0.        , 0.        , 0.        , 0.        ,\n",
       "       0.        , 0.        , 0.        , 0.        , 0.        ,\n",
       "       0.        , 0.        , 0.        , 0.        , 0.        ,\n",
       "       0.        , 0.        , 0.        , 0.        , 0.        ,\n",
       "       0.        , 0.        , 0.        , 0.        , 0.        ,\n",
       "       0.        , 0.        , 0.        , 0.        , 0.        ,\n",
       "       0.        , 0.        , 0.        , 0.        , 0.        ,\n",
       "       0.        , 0.        , 0.        , 0.        , 0.        ,\n",
       "       0.        , 0.        , 0.        , 0.        , 0.        ,\n",
       "       0.        , 0.        , 0.        , 0.        , 0.        ,\n",
       "       0.        , 0.        , 0.        , 0.        , 0.        ,\n",
       "       0.        , 0.        , 0.        , 0.        ])"
      ]
     },
     "execution_count": 20,
     "metadata": {},
     "output_type": "execute_result"
    }
   ],
   "source": [
    "X_train_flattened[0]"
   ]
  },
  {
   "cell_type": "code",
   "execution_count": 23,
   "id": "d4fbaf5a",
   "metadata": {},
   "outputs": [
    {
     "name": "stdout",
     "output_type": "stream",
     "text": [
      "Epoch 1/5\n",
      "1875/1875 [==============================] - 3s 1ms/step - loss: 0.4641 - accuracy: 0.8776\n",
      "Epoch 2/5\n",
      "1875/1875 [==============================] - 3s 2ms/step - loss: 0.3034 - accuracy: 0.9154\n",
      "Epoch 3/5\n",
      "1875/1875 [==============================] - 3s 1ms/step - loss: 0.2828 - accuracy: 0.9210\n",
      "Epoch 4/5\n",
      "1875/1875 [==============================] - 2s 1ms/step - loss: 0.2733 - accuracy: 0.9233\n",
      "Epoch 5/5\n",
      "1875/1875 [==============================] - 2s 1ms/step - loss: 0.2662 - accuracy: 0.9259\n"
     ]
    },
    {
     "data": {
      "text/plain": [
       "<keras.src.callbacks.History at 0x16d3b2b6bd0>"
      ]
     },
     "execution_count": 23,
     "metadata": {},
     "output_type": "execute_result"
    }
   ],
   "source": [
    "model = keras.Sequential([\n",
    "    keras.layers.Dense(10, input_shape=(784,),activation='sigmoid')\n",
    "])\n",
    "\n",
    "model.compile(optimizer='adam',\n",
    "             loss = 'sparse_categorical_crossentropy',\n",
    "             metrics=['accuracy'])\n",
    "\n",
    "model.fit(X_train_flattened,y_train,epochs=5)"
   ]
  },
  {
   "cell_type": "code",
   "execution_count": 24,
   "id": "d1a69dbb",
   "metadata": {},
   "outputs": [
    {
     "name": "stdout",
     "output_type": "stream",
     "text": [
      "313/313 [==============================] - 0s 1ms/step - loss: 0.2698 - accuracy: 0.9264\n"
     ]
    },
    {
     "data": {
      "text/plain": [
       "[0.2697724997997284, 0.9264000058174133]"
      ]
     },
     "execution_count": 24,
     "metadata": {},
     "output_type": "execute_result"
    }
   ],
   "source": [
    "model.evaluate(X_test_flattened, y_test)"
   ]
  },
  {
   "cell_type": "code",
   "execution_count": 25,
   "id": "ff773b3a",
   "metadata": {},
   "outputs": [
    {
     "name": "stdout",
     "output_type": "stream",
     "text": [
      "313/313 [==============================] - 0s 1ms/step\n"
     ]
    },
    {
     "data": {
      "text/plain": [
       "array([1.9783709e-02, 3.3941441e-07, 7.8664459e-02, 9.5206833e-01,\n",
       "       3.1039612e-03, 1.1444199e-01, 1.3914421e-06, 9.9972928e-01,\n",
       "       8.9400418e-02, 6.2666541e-01], dtype=float32)"
      ]
     },
     "execution_count": 25,
     "metadata": {},
     "output_type": "execute_result"
    }
   ],
   "source": [
    "y_predicted = model.predict(X_test_flattened)\n",
    "y_predicted[0]"
   ]
  },
  {
   "cell_type": "code",
   "execution_count": 26,
   "id": "3c5010b1",
   "metadata": {},
   "outputs": [
    {
     "data": {
      "text/plain": [
       "<matplotlib.image.AxesImage at 0x16d3e2d9c50>"
      ]
     },
     "execution_count": 26,
     "metadata": {},
     "output_type": "execute_result"
    },
    {
     "data": {
      "image/png": "[encoded data removed]",
      "text/plain": [
       "<Figure size 480x480 with 1 Axes>"
      ]
     },
     "metadata": {},
     "output_type": "display_data"
    }
   ],
   "source": [
    "plt.matshow(X_test[0])"
   ]
  },
  {
   "cell_type": "markdown",
   "id": "badf6149",
   "metadata": {},
   "source": [
    "### np.argmax finds a maximum element from an array and returns the index of it"
   ]
  },
  {
   "cell_type": "code",
   "execution_count": 27,
   "id": "1c9d7a5c",
   "metadata": {},
   "outputs": [
    {
     "data": {
      "text/plain": [
       "7"
      ]
     },
     "execution_count": 27,
     "metadata": {},
     "output_type": "execute_result"
    }
   ],
   "source": [
    "np.argmax(y_predicted[0])"
   ]
  },
  {
   "cell_type": "code",
   "execution_count": 28,
   "id": "63f1be40",
   "metadata": {},
   "outputs": [],
   "source": [
    "y_predicted_labels = [np.argmax(i) for i in y_predicted]"
   ]
  },
  {
   "cell_type": "code",
   "execution_count": 29,
   "id": "14a6d0c1",
   "metadata": {},
   "outputs": [
    {
     "data": {
      "text/plain": [
       "[7, 2, 1, 0, 4]"
      ]
     },
     "execution_count": 29,
     "metadata": {},
     "output_type": "execute_result"
    }
   ],
   "source": [
    "y_predicted_labels[:5]"
   ]
  },
  {
   "cell_type": "code",
   "execution_count": 30,
   "id": "de30eb2f",
   "metadata": {},
   "outputs": [
    {
     "data": {
      "text/plain": [
       "<tf.Tensor: shape=(10, 10), dtype=int32, numpy=\n",
       "array([[ 966,    0,    1,    2,    0,    4,    4,    2,    1,    0],\n",
       "       [   0, 1107,    3,    2,    0,    1,    4,    2,   16,    0],\n",
       "       [   6,    9,  921,   18,    7,    3,   12,    9,   42,    5],\n",
       "       [   3,    0,   19,  921,    1,   25,    2,    8,   25,    6],\n",
       "       [   2,    1,    9,    1,  910,    0,    7,    3,   13,   36],\n",
       "       [  11,    2,    4,   31,    7,  784,   10,    7,   31,    5],\n",
       "       [  12,    3,    9,    1,    7,   15,  907,    2,    2,    0],\n",
       "       [   1,    6,   23,    9,    8,    0,    0,  940,    5,   36],\n",
       "       [   8,    5,    6,   19,    9,   24,    8,    6,  882,    7],\n",
       "       [  11,    7,    1,    8,   23,    8,    0,   18,    7,  926]])>"
      ]
     },
     "execution_count": 30,
     "metadata": {},
     "output_type": "execute_result"
    }
   ],
   "source": [
    "cm = tf.math.confusion_matrix(labels=y_test,predictions=y_predicted_labels)\n",
    "cm"
   ]
  },
  {
   "cell_type": "code",
   "execution_count": 31,
   "id": "0d7188b8",
   "metadata": {},
   "outputs": [
    {
     "data": {
      "text/plain": [
       "Text(95.72222222222221, 0.5, 'Truth')"
      ]
     },
     "execution_count": 31,
     "metadata": {},
     "output_type": "execute_result"
    },
    {
     "data": {
      "image/png": "[encoded data removed]",
      "text/plain": [
       "<Figure size 1000x700 with 2 Axes>"
      ]
     },
     "metadata": {},
     "output_type": "display_data"
    }
   ],
   "source": [
    "import seaborn as sn\n",
    "plt.figure(figsize = (10,7))\n",
    "sn.heatmap(cm, annot=True, fmt='d')\n",
    "plt.xlabel('Predicted')\n",
    "plt.ylabel('Truth')"
   ]
  },
  {
   "cell_type": "markdown",
   "id": "1d77ab19",
   "metadata": {},
   "source": [
    "## Using hidden layer"
   ]
  },
  {
   "cell_type": "code",
   "execution_count": 34,
   "id": "b1371d80",
   "metadata": {},
   "outputs": [
    {
     "name": "stdout",
     "output_type": "stream",
     "text": [
      "Epoch 1/5\n",
      "1875/1875 [==============================] - 4s 2ms/step - loss: 0.2719 - accuracy: 0.9231\n",
      "Epoch 2/5\n",
      "1875/1875 [==============================] - 4s 2ms/step - loss: 0.1254 - accuracy: 0.9631\n",
      "Epoch 3/5\n",
      "1875/1875 [==============================] - 4s 2ms/step - loss: 0.0896 - accuracy: 0.9726\n",
      "Epoch 4/5\n",
      "1875/1875 [==============================] - 4s 2ms/step - loss: 0.0685 - accuracy: 0.9795\n",
      "Epoch 5/5\n",
      "1875/1875 [==============================] - 4s 2ms/step - loss: 0.0540 - accuracy: 0.9834\n"
     ]
    },
    {
     "data": {
      "text/plain": [
       "<keras.src.callbacks.History at 0x16d5b36c790>"
      ]
     },
     "execution_count": 34,
     "metadata": {},
     "output_type": "execute_result"
    }
   ],
   "source": [
    "model = keras.Sequential([\n",
    "    keras.layers.Dense(100, input_shape=(784,),activation= 'relu'),\n",
    "    keras.layers.Dense(10, activation='sigmoid')\n",
    "])\n",
    "model.compile(optimizer='adam',\n",
    "             loss='sparse_categorical_crossentropy',\n",
    "             metrics=['accuracy'])\n",
    "model.fit(X_train_flattened, y_train, epochs=5)"
   ]
  },
  {
   "cell_type": "code",
   "execution_count": 35,
   "id": "cb511c6a",
   "metadata": {},
   "outputs": [
    {
     "name": "stdout",
     "output_type": "stream",
     "text": [
      "313/313 [==============================] - 1s 1ms/step - loss: 0.0752 - accuracy: 0.9785\n"
     ]
    },
    {
     "data": {
      "text/plain": [
       "[0.07518993318080902, 0.9785000085830688]"
      ]
     },
     "execution_count": 35,
     "metadata": {},
     "output_type": "execute_result"
    }
   ],
   "source": [
    "model.evaluate(X_test_flattened,y_test)"
   ]
  },
  {
   "cell_type": "code",
   "execution_count": 36,
   "id": "1aae3101",
   "metadata": {},
   "outputs": [
    {
     "name": "stdout",
     "output_type": "stream",
     "text": [
      "313/313 [==============================] - 0s 1ms/step\n"
     ]
    },
    {
     "data": {
      "text/plain": [
       "Text(95.72222222222221, 0.5, 'Truth')"
      ]
     },
     "execution_count": 36,
     "metadata": {},
     "output_type": "execute_result"
    },
    {
     "data": {
      "image/png": "[encoded data removed]",
      "text/plain": [
       "<Figure size 1000x700 with 2 Axes>"
      ]
     },
     "metadata": {},
     "output_type": "display_data"
    }
   ],
   "source": [
    "y_predicted = model.predict(X_test_flattened)\n",
    "y_predicted_labels = [np.argmax(i) for i in y_predicted]\n",
    "cm = tf.math.confusion_matrix(labels=y_test,predictions=y_predicted_labels)\n",
    "\n",
    "plt.figure(figsize = (10,7))\n",
    "sn.heatmap(cm, annot=True, fmt='d')\n",
    "plt.xlabel('Predicted')\n",
    "plt.ylabel('Truth')"
   ]
  },
  {
   "cell_type": "markdown",
   "id": "47c5c870",
   "metadata": {},
   "source": [
    "## Using Flatten layer so that we don't have to call .reshape on input dataset"
   ]
  },
  {
   "cell_type": "code",
   "execution_count": 39,
   "id": "1f062a8a",
   "metadata": {},
   "outputs": [
    {
     "name": "stdout",
     "output_type": "stream",
     "text": [
      "Epoch 1/5\n",
      "1875/1875 [==============================] - 4s 2ms/step - loss: 0.2754 - accuracy: 0.9212\n",
      "Epoch 2/5\n",
      "1875/1875 [==============================] - 3s 2ms/step - loss: 0.1276 - accuracy: 0.9628\n",
      "Epoch 3/5\n",
      "1875/1875 [==============================] - 3s 2ms/step - loss: 0.0895 - accuracy: 0.9736\n",
      "Epoch 4/5\n",
      "1875/1875 [==============================] - 3s 2ms/step - loss: 0.0669 - accuracy: 0.9799\n",
      "Epoch 5/5\n",
      "1875/1875 [==============================] - 3s 2ms/step - loss: 0.0523 - accuracy: 0.9841\n"
     ]
    },
    {
     "data": {
      "text/plain": [
       "<keras.src.callbacks.History at 0x16d5f866490>"
      ]
     },
     "execution_count": 39,
     "metadata": {},
     "output_type": "execute_result"
    }
   ],
   "source": [
    "model = keras.Sequential([\n",
    "    keras.layers.Flatten(input_shape=(28,28)),\n",
    "    keras.layers.Dense(100,activation='relu'),\n",
    "    keras.layers.Dense(10,activation='sigmoid')\n",
    "])\n",
    "model.compile(optimizer='adam',\n",
    "             loss='sparse_categorical_crossentropy',\n",
    "            metrics=['accuracy'])\n",
    "model.fit(X_train,y_train,epochs=5)"
   ]
  },
  {
   "cell_type": "code",
   "execution_count": 40,
   "id": "7641756d",
   "metadata": {},
   "outputs": [
    {
     "name": "stdout",
     "output_type": "stream",
     "text": [
      "313/313 [==============================] - 1s 1ms/step - loss: 0.0776 - accuracy: 0.9779\n"
     ]
    },
    {
     "data": {
      "text/plain": [
       "[0.07761410623788834, 0.9779000282287598]"
      ]
     },
     "execution_count": 40,
     "metadata": {},
     "output_type": "execute_result"
    }
   ],
   "source": [
    "model.evaluate(X_test,y_test)"
   ]
  },
  {
   "cell_type": "code",
   "execution_count": null,
   "id": "d9b98b83",
   "metadata": {},
   "outputs": [],
   "source": []
  }
 ],
 "metadata": {
  "kernelspec": {
   "display_name": "Python 3 (ipykernel)",
   "language": "python",
   "name": "python3"
  },
  "language_info": {
   "codemirror_mode": {
    "name": "ipython",
    "version": 3
   },
   "file_extension": ".py",
   "mimetype": "text/x-python",
   "name": "python",
   "nbconvert_exporter": "python",
   "pygments_lexer": "ipython3",
   "version": "3.11.4"
  }
 },
 "nbformat": 4,
 "nbformat_minor": 5
}
